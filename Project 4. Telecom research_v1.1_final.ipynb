{
 "cells": [
  {
   "cell_type": "markdown",
   "id": "ecff600e",
   "metadata": {
    "toc": true
   },
   "source": [
    "<h1>Table of Contents<span class=\"tocSkip\"></span></h1>\n",
    "<div class=\"toc\"><ul class=\"toc-item\"><li><span><a href=\"#Проект-4.-Определение-перспективного-тарифа-для-телеком-компании\" data-toc-modified-id=\"Проект-4.-Определение-перспективного-тарифа-для-телеком-компании-1\"><span class=\"toc-item-num\">1&nbsp;&nbsp;</span>Проект 4. Определение перспективного тарифа для телеком-компании</a></span><ul class=\"toc-item\"><li><span><a href=\"#Обзор-данных\" data-toc-modified-id=\"Обзор-данных-1.1\"><span class=\"toc-item-num\">1.1&nbsp;&nbsp;</span>Обзор данных</a></span></li><li><span><a href=\"#Предобработка-данных\" data-toc-modified-id=\"Предобработка-данных-1.2\"><span class=\"toc-item-num\">1.2&nbsp;&nbsp;</span>Предобработка данных</a></span><ul class=\"toc-item\"><li><span><a href=\"#Изменение-типов-данных\" data-toc-modified-id=\"Изменение-типов-данных-1.2.1\"><span class=\"toc-item-num\">1.2.1&nbsp;&nbsp;</span>Изменение типов данных</a></span></li><li><span><a href=\"#Исправление-ошибок-в-данных\" data-toc-modified-id=\"Исправление-ошибок-в-данных-1.2.2\"><span class=\"toc-item-num\">1.2.2&nbsp;&nbsp;</span>Исправление ошибок в данных</a></span></li><li><span><a href=\"#Расчет-вспомогательных-параметров\" data-toc-modified-id=\"Расчет-вспомогательных-параметров-1.2.3\"><span class=\"toc-item-num\">1.2.3&nbsp;&nbsp;</span>Расчет вспомогательных параметров</a></span></li></ul></li><li><span><a href=\"#Статистический-анализ-данных\" data-toc-modified-id=\"Статистический-анализ-данных-1.3\"><span class=\"toc-item-num\">1.3&nbsp;&nbsp;</span>Статистический анализ данных</a></span><ul class=\"toc-item\"><li><span><a href=\"#Анализ-поведения-клиентов-оператора\" data-toc-modified-id=\"Анализ-поведения-клиентов-оператора-1.3.1\"><span class=\"toc-item-num\">1.3.1&nbsp;&nbsp;</span>Анализ поведения клиентов оператора</a></span></li><li><span><a href=\"#Проверка-гипотез-по-средней-выручке-пользователей\" data-toc-modified-id=\"Проверка-гипотез-по-средней-выручке-пользователей-1.3.2\"><span class=\"toc-item-num\">1.3.2&nbsp;&nbsp;</span>Проверка гипотез по средней выручке пользователей</a></span><ul class=\"toc-item\"><li><span><a href=\"#Cредняя-выручка-пользователей-тарифов-«Ультра»-и-«Смарт»-различаются\" data-toc-modified-id=\"Cредняя-выручка-пользователей-тарифов-«Ультра»-и-«Смарт»-различаются-1.3.2.1\"><span class=\"toc-item-num\">1.3.2.1&nbsp;&nbsp;</span>Cредняя выручка пользователей тарифов «Ультра» и «Смарт» различаются</a></span></li><li><span><a href=\"#Средняя-выручка-тарифа-&quot;Ультра&quot;-больше-средней-выручки-тарифа-&quot;Смарт&quot;\" data-toc-modified-id=\"Средняя-выручка-тарифа-&quot;Ультра&quot;-больше-средней-выручки-тарифа-&quot;Смарт&quot;-1.3.2.2\"><span class=\"toc-item-num\">1.3.2.2&nbsp;&nbsp;</span>Средняя выручка тарифа \"Ультра\" больше средней выручки тарифа \"Смарт\"</a></span></li><li><span><a href=\"#Cредняя-выручка-пользователей-из-Москвы-отличается-от-выручки-пользователей-из-других-регионов.\" data-toc-modified-id=\"Cредняя-выручка-пользователей-из-Москвы-отличается-от-выручки-пользователей-из-других-регионов.-1.3.2.3\"><span class=\"toc-item-num\">1.3.2.3&nbsp;&nbsp;</span>Cредняя выручка пользователей из Москвы отличается от выручки пользователей из других регионов.</a></span></li></ul></li></ul></li><li><span><a href=\"#Итоги-исследования\" data-toc-modified-id=\"Итоги-исследования-1.4\"><span class=\"toc-item-num\">1.4&nbsp;&nbsp;</span>Итоги исследования</a></span></li></ul></li></ul></div>"
   ]
  },
  {
   "cell_type": "markdown",
   "id": "3c6c59e9",
   "metadata": {},
   "source": [
    "# Проект 4. Определение перспективного тарифа для телеком-компании"
   ]
  },
  {
   "cell_type": "markdown",
   "id": "1cc6df51",
   "metadata": {},
   "source": [
    "**Цель исследования:**\n",
    "\n",
    "Проанализировать поведение клиентов оператора сотовой связи и определить наиболее доходный тариф компании.\n",
    "\n",
    "**Задачи исследования:**\n",
    "\n",
    "* Проанализировать поведение клиентов, исходя из выборки\n",
    "* Проверить гипотезы: \n",
    "\n",
    "    1. Средняя выручка пользователей тарифов \"Ультра\" и \"Смарт\" различается\n",
    "    2. Средняя выручка пользователей из Москвы отличается от выручки пользователей из других регионов\n",
    "\n",
    "**Ход исследования**\n",
    "\n",
    "1. Обзор данных\n",
    "2. Предобработка данных\n",
    "3. Статистический анализ данных и решение поставленных задач\n",
    "4. Итоги исследования"
   ]
  },
  {
   "cell_type": "markdown",
   "id": "df1cb6b3",
   "metadata": {},
   "source": [
    "## Обзор данных"
   ]
  },
  {
   "cell_type": "code",
   "execution_count": 1,
   "id": "938a92de",
   "metadata": {},
   "outputs": [],
   "source": [
    "import pandas as pd # импортируем библиотеку pandas\n",
    "pd.options.display.float_format = \"{:.2f}\".format # меняем формат вывода вещественных чисел\n",
    "\n",
    "try:\n",
    "    calls = pd.read_csv('D:\\Documents\\Python\\ЯПрактикум\\Проекты\\Проект 4 Телеком\\calls.csv')\n",
    "    internet = pd.read_csv('D:\\Documents\\Python\\ЯПрактикум\\Проекты\\Проект 4 Телеком\\internet.csv')\n",
    "    messages = pd.read_csv('D:\\Documents\\Python\\ЯПрактикум\\Проекты\\Проект 4 Телеком\\messages.csv')\n",
    "    tariffs = pd.read_csv('D:\\Documents\\Python\\ЯПрактикум\\Проекты\\Проект 4 Телеком\\\\tariffs.csv')\n",
    "    users = pd.read_csv('D:\\Documents\\Python\\ЯПрактикум\\Проекты\\Проект 4 Телеком\\\\users.csv')\n",
    "except:\n",
    "    calls = pd.read_csv('/datasets/calls.csv')\n",
    "    internet = pd.read_csv('/datasets/internet.csv')\n",
    "    messages = pd.read_csv('/datasets/messages.csv')\n",
    "    tariffs = pd.read_csv('/datasets/tariffs.csv')\n",
    "    users = pd.read_csv('/datasets/users.csv')"
   ]
  },
  {
   "cell_type": "code",
   "execution_count": 2,
   "id": "ad04d8c6",
   "metadata": {},
   "outputs": [
    {
     "name": "stdout",
     "output_type": "stream",
     "text": [
      "<class 'pandas.core.frame.DataFrame'>\n",
      "RangeIndex: 202607 entries, 0 to 202606\n",
      "Data columns (total 4 columns):\n",
      " #   Column     Non-Null Count   Dtype  \n",
      "---  ------     --------------   -----  \n",
      " 0   id         202607 non-null  object \n",
      " 1   call_date  202607 non-null  object \n",
      " 2   duration   202607 non-null  float64\n",
      " 3   user_id    202607 non-null  int64  \n",
      "dtypes: float64(1), int64(1), object(2)\n",
      "memory usage: 6.2+ MB\n"
     ]
    },
    {
     "data": {
      "text/plain": [
       "None"
      ]
     },
     "metadata": {},
     "output_type": "display_data"
    },
    {
     "data": {
      "text/html": [
       "<div>\n",
       "<style scoped>\n",
       "    .dataframe tbody tr th:only-of-type {\n",
       "        vertical-align: middle;\n",
       "    }\n",
       "\n",
       "    .dataframe tbody tr th {\n",
       "        vertical-align: top;\n",
       "    }\n",
       "\n",
       "    .dataframe thead th {\n",
       "        text-align: right;\n",
       "    }\n",
       "</style>\n",
       "<table border=\"1\" class=\"dataframe\">\n",
       "  <thead>\n",
       "    <tr style=\"text-align: right;\">\n",
       "      <th></th>\n",
       "      <th>id</th>\n",
       "      <th>call_date</th>\n",
       "      <th>duration</th>\n",
       "      <th>user_id</th>\n",
       "    </tr>\n",
       "  </thead>\n",
       "  <tbody>\n",
       "    <tr>\n",
       "      <th>0</th>\n",
       "      <td>1000_0</td>\n",
       "      <td>2018-07-25</td>\n",
       "      <td>0.00</td>\n",
       "      <td>1000</td>\n",
       "    </tr>\n",
       "    <tr>\n",
       "      <th>1</th>\n",
       "      <td>1000_1</td>\n",
       "      <td>2018-08-17</td>\n",
       "      <td>0.00</td>\n",
       "      <td>1000</td>\n",
       "    </tr>\n",
       "    <tr>\n",
       "      <th>2</th>\n",
       "      <td>1000_2</td>\n",
       "      <td>2018-06-11</td>\n",
       "      <td>2.85</td>\n",
       "      <td>1000</td>\n",
       "    </tr>\n",
       "    <tr>\n",
       "      <th>3</th>\n",
       "      <td>1000_3</td>\n",
       "      <td>2018-09-21</td>\n",
       "      <td>13.80</td>\n",
       "      <td>1000</td>\n",
       "    </tr>\n",
       "    <tr>\n",
       "      <th>4</th>\n",
       "      <td>1000_4</td>\n",
       "      <td>2018-12-15</td>\n",
       "      <td>5.18</td>\n",
       "      <td>1000</td>\n",
       "    </tr>\n",
       "  </tbody>\n",
       "</table>\n",
       "</div>"
      ],
      "text/plain": [
       "       id   call_date  duration  user_id\n",
       "0  1000_0  2018-07-25      0.00     1000\n",
       "1  1000_1  2018-08-17      0.00     1000\n",
       "2  1000_2  2018-06-11      2.85     1000\n",
       "3  1000_3  2018-09-21     13.80     1000\n",
       "4  1000_4  2018-12-15      5.18     1000"
      ]
     },
     "metadata": {},
     "output_type": "display_data"
    },
    {
     "name": "stdout",
     "output_type": "stream",
     "text": [
      "----------------------------------------------\n",
      "<class 'pandas.core.frame.DataFrame'>\n",
      "RangeIndex: 149396 entries, 0 to 149395\n",
      "Data columns (total 5 columns):\n",
      " #   Column        Non-Null Count   Dtype  \n",
      "---  ------        --------------   -----  \n",
      " 0   Unnamed: 0    149396 non-null  int64  \n",
      " 1   id            149396 non-null  object \n",
      " 2   mb_used       149396 non-null  float64\n",
      " 3   session_date  149396 non-null  object \n",
      " 4   user_id       149396 non-null  int64  \n",
      "dtypes: float64(1), int64(2), object(2)\n",
      "memory usage: 5.7+ MB\n"
     ]
    },
    {
     "data": {
      "text/plain": [
       "None"
      ]
     },
     "metadata": {},
     "output_type": "display_data"
    },
    {
     "data": {
      "text/html": [
       "<div>\n",
       "<style scoped>\n",
       "    .dataframe tbody tr th:only-of-type {\n",
       "        vertical-align: middle;\n",
       "    }\n",
       "\n",
       "    .dataframe tbody tr th {\n",
       "        vertical-align: top;\n",
       "    }\n",
       "\n",
       "    .dataframe thead th {\n",
       "        text-align: right;\n",
       "    }\n",
       "</style>\n",
       "<table border=\"1\" class=\"dataframe\">\n",
       "  <thead>\n",
       "    <tr style=\"text-align: right;\">\n",
       "      <th></th>\n",
       "      <th>Unnamed: 0</th>\n",
       "      <th>id</th>\n",
       "      <th>mb_used</th>\n",
       "      <th>session_date</th>\n",
       "      <th>user_id</th>\n",
       "    </tr>\n",
       "  </thead>\n",
       "  <tbody>\n",
       "    <tr>\n",
       "      <th>0</th>\n",
       "      <td>0</td>\n",
       "      <td>1000_0</td>\n",
       "      <td>112.95</td>\n",
       "      <td>2018-11-25</td>\n",
       "      <td>1000</td>\n",
       "    </tr>\n",
       "    <tr>\n",
       "      <th>1</th>\n",
       "      <td>1</td>\n",
       "      <td>1000_1</td>\n",
       "      <td>1052.81</td>\n",
       "      <td>2018-09-07</td>\n",
       "      <td>1000</td>\n",
       "    </tr>\n",
       "    <tr>\n",
       "      <th>2</th>\n",
       "      <td>2</td>\n",
       "      <td>1000_2</td>\n",
       "      <td>1197.26</td>\n",
       "      <td>2018-06-25</td>\n",
       "      <td>1000</td>\n",
       "    </tr>\n",
       "    <tr>\n",
       "      <th>3</th>\n",
       "      <td>3</td>\n",
       "      <td>1000_3</td>\n",
       "      <td>550.27</td>\n",
       "      <td>2018-08-22</td>\n",
       "      <td>1000</td>\n",
       "    </tr>\n",
       "    <tr>\n",
       "      <th>4</th>\n",
       "      <td>4</td>\n",
       "      <td>1000_4</td>\n",
       "      <td>302.56</td>\n",
       "      <td>2018-09-24</td>\n",
       "      <td>1000</td>\n",
       "    </tr>\n",
       "  </tbody>\n",
       "</table>\n",
       "</div>"
      ],
      "text/plain": [
       "   Unnamed: 0      id  mb_used session_date  user_id\n",
       "0           0  1000_0   112.95   2018-11-25     1000\n",
       "1           1  1000_1  1052.81   2018-09-07     1000\n",
       "2           2  1000_2  1197.26   2018-06-25     1000\n",
       "3           3  1000_3   550.27   2018-08-22     1000\n",
       "4           4  1000_4   302.56   2018-09-24     1000"
      ]
     },
     "metadata": {},
     "output_type": "display_data"
    },
    {
     "name": "stdout",
     "output_type": "stream",
     "text": [
      "----------------------------------------------\n",
      "<class 'pandas.core.frame.DataFrame'>\n",
      "RangeIndex: 123036 entries, 0 to 123035\n",
      "Data columns (total 3 columns):\n",
      " #   Column        Non-Null Count   Dtype \n",
      "---  ------        --------------   ----- \n",
      " 0   id            123036 non-null  object\n",
      " 1   message_date  123036 non-null  object\n",
      " 2   user_id       123036 non-null  int64 \n",
      "dtypes: int64(1), object(2)\n",
      "memory usage: 2.8+ MB\n"
     ]
    },
    {
     "data": {
      "text/plain": [
       "None"
      ]
     },
     "metadata": {},
     "output_type": "display_data"
    },
    {
     "data": {
      "text/html": [
       "<div>\n",
       "<style scoped>\n",
       "    .dataframe tbody tr th:only-of-type {\n",
       "        vertical-align: middle;\n",
       "    }\n",
       "\n",
       "    .dataframe tbody tr th {\n",
       "        vertical-align: top;\n",
       "    }\n",
       "\n",
       "    .dataframe thead th {\n",
       "        text-align: right;\n",
       "    }\n",
       "</style>\n",
       "<table border=\"1\" class=\"dataframe\">\n",
       "  <thead>\n",
       "    <tr style=\"text-align: right;\">\n",
       "      <th></th>\n",
       "      <th>id</th>\n",
       "      <th>message_date</th>\n",
       "      <th>user_id</th>\n",
       "    </tr>\n",
       "  </thead>\n",
       "  <tbody>\n",
       "    <tr>\n",
       "      <th>0</th>\n",
       "      <td>1000_0</td>\n",
       "      <td>2018-06-27</td>\n",
       "      <td>1000</td>\n",
       "    </tr>\n",
       "    <tr>\n",
       "      <th>1</th>\n",
       "      <td>1000_1</td>\n",
       "      <td>2018-10-08</td>\n",
       "      <td>1000</td>\n",
       "    </tr>\n",
       "    <tr>\n",
       "      <th>2</th>\n",
       "      <td>1000_2</td>\n",
       "      <td>2018-08-04</td>\n",
       "      <td>1000</td>\n",
       "    </tr>\n",
       "    <tr>\n",
       "      <th>3</th>\n",
       "      <td>1000_3</td>\n",
       "      <td>2018-06-16</td>\n",
       "      <td>1000</td>\n",
       "    </tr>\n",
       "    <tr>\n",
       "      <th>4</th>\n",
       "      <td>1000_4</td>\n",
       "      <td>2018-12-05</td>\n",
       "      <td>1000</td>\n",
       "    </tr>\n",
       "  </tbody>\n",
       "</table>\n",
       "</div>"
      ],
      "text/plain": [
       "       id message_date  user_id\n",
       "0  1000_0   2018-06-27     1000\n",
       "1  1000_1   2018-10-08     1000\n",
       "2  1000_2   2018-08-04     1000\n",
       "3  1000_3   2018-06-16     1000\n",
       "4  1000_4   2018-12-05     1000"
      ]
     },
     "metadata": {},
     "output_type": "display_data"
    },
    {
     "name": "stdout",
     "output_type": "stream",
     "text": [
      "----------------------------------------------\n",
      "<class 'pandas.core.frame.DataFrame'>\n",
      "RangeIndex: 500 entries, 0 to 499\n",
      "Data columns (total 8 columns):\n",
      " #   Column      Non-Null Count  Dtype \n",
      "---  ------      --------------  ----- \n",
      " 0   user_id     500 non-null    int64 \n",
      " 1   age         500 non-null    int64 \n",
      " 2   churn_date  38 non-null     object\n",
      " 3   city        500 non-null    object\n",
      " 4   first_name  500 non-null    object\n",
      " 5   last_name   500 non-null    object\n",
      " 6   reg_date    500 non-null    object\n",
      " 7   tariff      500 non-null    object\n",
      "dtypes: int64(2), object(6)\n",
      "memory usage: 31.4+ KB\n"
     ]
    },
    {
     "data": {
      "text/plain": [
       "None"
      ]
     },
     "metadata": {},
     "output_type": "display_data"
    },
    {
     "data": {
      "text/html": [
       "<div>\n",
       "<style scoped>\n",
       "    .dataframe tbody tr th:only-of-type {\n",
       "        vertical-align: middle;\n",
       "    }\n",
       "\n",
       "    .dataframe tbody tr th {\n",
       "        vertical-align: top;\n",
       "    }\n",
       "\n",
       "    .dataframe thead th {\n",
       "        text-align: right;\n",
       "    }\n",
       "</style>\n",
       "<table border=\"1\" class=\"dataframe\">\n",
       "  <thead>\n",
       "    <tr style=\"text-align: right;\">\n",
       "      <th></th>\n",
       "      <th>user_id</th>\n",
       "      <th>age</th>\n",
       "      <th>churn_date</th>\n",
       "      <th>city</th>\n",
       "      <th>first_name</th>\n",
       "      <th>last_name</th>\n",
       "      <th>reg_date</th>\n",
       "      <th>tariff</th>\n",
       "    </tr>\n",
       "  </thead>\n",
       "  <tbody>\n",
       "    <tr>\n",
       "      <th>0</th>\n",
       "      <td>1000</td>\n",
       "      <td>52</td>\n",
       "      <td>NaN</td>\n",
       "      <td>Краснодар</td>\n",
       "      <td>Рафаил</td>\n",
       "      <td>Верещагин</td>\n",
       "      <td>2018-05-25</td>\n",
       "      <td>ultra</td>\n",
       "    </tr>\n",
       "    <tr>\n",
       "      <th>1</th>\n",
       "      <td>1001</td>\n",
       "      <td>41</td>\n",
       "      <td>NaN</td>\n",
       "      <td>Москва</td>\n",
       "      <td>Иван</td>\n",
       "      <td>Ежов</td>\n",
       "      <td>2018-11-01</td>\n",
       "      <td>smart</td>\n",
       "    </tr>\n",
       "    <tr>\n",
       "      <th>2</th>\n",
       "      <td>1002</td>\n",
       "      <td>59</td>\n",
       "      <td>NaN</td>\n",
       "      <td>Стерлитамак</td>\n",
       "      <td>Евгений</td>\n",
       "      <td>Абрамович</td>\n",
       "      <td>2018-06-17</td>\n",
       "      <td>smart</td>\n",
       "    </tr>\n",
       "    <tr>\n",
       "      <th>3</th>\n",
       "      <td>1003</td>\n",
       "      <td>23</td>\n",
       "      <td>NaN</td>\n",
       "      <td>Москва</td>\n",
       "      <td>Белла</td>\n",
       "      <td>Белякова</td>\n",
       "      <td>2018-08-17</td>\n",
       "      <td>ultra</td>\n",
       "    </tr>\n",
       "    <tr>\n",
       "      <th>4</th>\n",
       "      <td>1004</td>\n",
       "      <td>68</td>\n",
       "      <td>NaN</td>\n",
       "      <td>Новокузнецк</td>\n",
       "      <td>Татьяна</td>\n",
       "      <td>Авдеенко</td>\n",
       "      <td>2018-05-14</td>\n",
       "      <td>ultra</td>\n",
       "    </tr>\n",
       "  </tbody>\n",
       "</table>\n",
       "</div>"
      ],
      "text/plain": [
       "   user_id  age churn_date         city first_name  last_name    reg_date  \\\n",
       "0     1000   52        NaN    Краснодар     Рафаил  Верещагин  2018-05-25   \n",
       "1     1001   41        NaN       Москва       Иван       Ежов  2018-11-01   \n",
       "2     1002   59        NaN  Стерлитамак    Евгений  Абрамович  2018-06-17   \n",
       "3     1003   23        NaN       Москва      Белла   Белякова  2018-08-17   \n",
       "4     1004   68        NaN  Новокузнецк    Татьяна   Авдеенко  2018-05-14   \n",
       "\n",
       "  tariff  \n",
       "0  ultra  \n",
       "1  smart  \n",
       "2  smart  \n",
       "3  ultra  \n",
       "4  ultra  "
      ]
     },
     "metadata": {},
     "output_type": "display_data"
    },
    {
     "name": "stdout",
     "output_type": "stream",
     "text": [
      "----------------------------------------------\n",
      "<class 'pandas.core.frame.DataFrame'>\n",
      "RangeIndex: 2 entries, 0 to 1\n",
      "Data columns (total 8 columns):\n",
      " #   Column                 Non-Null Count  Dtype \n",
      "---  ------                 --------------  ----- \n",
      " 0   messages_included      2 non-null      int64 \n",
      " 1   mb_per_month_included  2 non-null      int64 \n",
      " 2   minutes_included       2 non-null      int64 \n",
      " 3   rub_monthly_fee        2 non-null      int64 \n",
      " 4   rub_per_gb             2 non-null      int64 \n",
      " 5   rub_per_message        2 non-null      int64 \n",
      " 6   rub_per_minute         2 non-null      int64 \n",
      " 7   tariff_name            2 non-null      object\n",
      "dtypes: int64(7), object(1)\n",
      "memory usage: 256.0+ bytes\n"
     ]
    },
    {
     "data": {
      "text/plain": [
       "None"
      ]
     },
     "metadata": {},
     "output_type": "display_data"
    },
    {
     "data": {
      "text/html": [
       "<div>\n",
       "<style scoped>\n",
       "    .dataframe tbody tr th:only-of-type {\n",
       "        vertical-align: middle;\n",
       "    }\n",
       "\n",
       "    .dataframe tbody tr th {\n",
       "        vertical-align: top;\n",
       "    }\n",
       "\n",
       "    .dataframe thead th {\n",
       "        text-align: right;\n",
       "    }\n",
       "</style>\n",
       "<table border=\"1\" class=\"dataframe\">\n",
       "  <thead>\n",
       "    <tr style=\"text-align: right;\">\n",
       "      <th></th>\n",
       "      <th>messages_included</th>\n",
       "      <th>mb_per_month_included</th>\n",
       "      <th>minutes_included</th>\n",
       "      <th>rub_monthly_fee</th>\n",
       "      <th>rub_per_gb</th>\n",
       "      <th>rub_per_message</th>\n",
       "      <th>rub_per_minute</th>\n",
       "      <th>tariff_name</th>\n",
       "    </tr>\n",
       "  </thead>\n",
       "  <tbody>\n",
       "    <tr>\n",
       "      <th>0</th>\n",
       "      <td>50</td>\n",
       "      <td>15360</td>\n",
       "      <td>500</td>\n",
       "      <td>550</td>\n",
       "      <td>200</td>\n",
       "      <td>3</td>\n",
       "      <td>3</td>\n",
       "      <td>smart</td>\n",
       "    </tr>\n",
       "    <tr>\n",
       "      <th>1</th>\n",
       "      <td>1000</td>\n",
       "      <td>30720</td>\n",
       "      <td>3000</td>\n",
       "      <td>1950</td>\n",
       "      <td>150</td>\n",
       "      <td>1</td>\n",
       "      <td>1</td>\n",
       "      <td>ultra</td>\n",
       "    </tr>\n",
       "  </tbody>\n",
       "</table>\n",
       "</div>"
      ],
      "text/plain": [
       "   messages_included  mb_per_month_included  minutes_included  \\\n",
       "0                 50                  15360               500   \n",
       "1               1000                  30720              3000   \n",
       "\n",
       "   rub_monthly_fee  rub_per_gb  rub_per_message  rub_per_minute tariff_name  \n",
       "0              550         200                3               3       smart  \n",
       "1             1950         150                1               1       ultra  "
      ]
     },
     "metadata": {},
     "output_type": "display_data"
    },
    {
     "name": "stdout",
     "output_type": "stream",
     "text": [
      "----------------------------------------------\n"
     ]
    }
   ],
   "source": [
    "tables = [calls, internet, messages, users, tariffs] # создаем список с таблицами\n",
    "for table in tables:\n",
    "    display(table.info()) #выводим информацию о датафреймах\n",
    "    display(table.head())\n",
    "    print('----------------------------------------------')"
   ]
  },
  {
   "cell_type": "markdown",
   "id": "1f30dba7",
   "metadata": {},
   "source": [
    "Согласно документации к данным в датафреймах следующие столбцы:\n",
    "\n",
    "Таблица users (информация о пользователях):\n",
    "\n",
    "* user_id — уникальный идентификатор пользователя\n",
    "* first_name — имя пользователя\n",
    "* last_name — фамилия пользователя\n",
    "* age — возраст пользователя (годы)\n",
    "* reg_date — дата подключения тарифа (день, месяц, год)\n",
    "* churn_date — дата прекращения пользования тарифом (если значение пропущено, то тариф ещё действовал на момент выгрузки данных)\n",
    "* city — город проживания пользователя\n",
    "* tariff — название тарифного плана\n",
    "\n",
    "Таблица calls (информация о звонках):\n",
    "\n",
    "* id — уникальный номер звонка\n",
    "* call_date — дата звонка\n",
    "* duration — длительность звонка в минутах\n",
    "* user_id — идентификатор пользователя, сделавшего звонок\n",
    "\n",
    "Таблица messages (информация о сообщениях):\n",
    "\n",
    "* id — уникальный номер сообщения\n",
    "* message_date — дата сообщения\n",
    "* user_id — идентификатор пользователя, отправившего сообщение\n",
    "\n",
    "Таблица internet (информация об интернет-сессиях):\n",
    "\n",
    "* id — уникальный номер сессии\n",
    "* mb_used — объём потраченного за сессию интернет-трафика (в мегабайтах)\n",
    "* session_date — дата интернет-сессии\n",
    "* user_id — идентификатор пользователя\n",
    "\n",
    "Таблица tariffs (информация о тарифах):\n",
    "\n",
    "* tariff_name — название тарифа\n",
    "* rub_monthly_fee — ежемесячная абонентская плата в рублях\n",
    "* minutes_included — количество минут разговора в месяц, включённых в абонентскую плату\n",
    "* messages_included — количество сообщений в месяц, включённых в абонентскую плату\n",
    "* mb_per_month_included — объём интернет-трафика, включённого в абонентскую плату (в мегабайтах)\n",
    "* rub_per_minute — стоимость минуты разговора сверх тарифного пакета (например, если в тарифе 100 минут разговора в месяц, то со 101 минуты будет взиматься плата)\n",
    "* rub_per_message — стоимость отправки сообщения сверх тарифного пакета\n",
    "* rub_per_gb — стоимость дополнительного гигабайта интернет-трафика сверх тарифного пакета (1 гигабайт = 1024 мегабайта)"
   ]
  },
  {
   "cell_type": "markdown",
   "id": "32d9cb45",
   "metadata": {},
   "source": [
    "**Вывод:**\n",
    "Предварительно можно утверждать, что данных достаточно для проведения исследования. Однако прежде чем приступать к анализу, необходимо выполнить предобработку данных:\n",
    "\n",
    "1. Проверить и скорректировать типы данных в столбцах датафреймов\n",
    "2. Найти и исправить ошибки в данных (при наличии)\n",
    "3. Рассчитать вспомогательные параметры: \n",
    "    * количество сделанных звонков и израсходованных минут разговора по месяцам;\n",
    "    * количество отправленных сообщений по месяцам;\n",
    "    * объем израсходованного интернет-трафика по месяцам;\n",
    "    * помесячную выручку с каждого пользователя"
   ]
  },
  {
   "cell_type": "markdown",
   "id": "45b51efd",
   "metadata": {},
   "source": [
    "## Предобработка данных"
   ]
  },
  {
   "cell_type": "markdown",
   "id": "b48af1ae",
   "metadata": {},
   "source": [
    "Сначала проверим и при необходимости исправим типы данных в таблицах."
   ]
  },
  {
   "cell_type": "markdown",
   "id": "a3c243ab",
   "metadata": {},
   "source": [
    "### Изменение типов данных"
   ]
  },
  {
   "cell_type": "markdown",
   "id": "46991c94",
   "metadata": {},
   "source": [
    "Проверим уникальные значения и числовые параметры данных в каждом датафрейме"
   ]
  },
  {
   "cell_type": "code",
   "execution_count": 3,
   "id": "c1986d5c",
   "metadata": {},
   "outputs": [
    {
     "name": "stdout",
     "output_type": "stream",
     "text": [
      "1000_0      1\n",
      "1344_881    1\n",
      "1344_883    1\n",
      "1344_884    1\n",
      "1344_885    1\n",
      "           ..\n",
      "1171_562    1\n",
      "1171_563    1\n",
      "1171_564    1\n",
      "1171_565    1\n",
      "1499_219    1\n",
      "Name: id, Length: 202607, dtype: int64\n",
      "2018-12-31    1435\n",
      "2018-12-29    1202\n",
      "2018-12-30    1192\n",
      "2018-12-22    1158\n",
      "2018-12-26    1149\n",
      "              ... \n",
      "2018-01-05      20\n",
      "2018-01-07      18\n",
      "2018-01-02       9\n",
      "2018-01-03       7\n",
      "2018-01-01       5\n",
      "Name: call_date, Length: 365, dtype: int64\n",
      "0.00     39613\n",
      "4.49       142\n",
      "5.50       142\n",
      "6.15       141\n",
      "6.38       141\n",
      "         ...  \n",
      "26.94        1\n",
      "32.19        1\n",
      "26.32        1\n",
      "27.41        1\n",
      "26.90        1\n",
      "Name: duration, Length: 2871, dtype: int64\n",
      "1377    1760\n",
      "1168    1692\n",
      "1375    1560\n",
      "1453    1440\n",
      "1196    1240\n",
      "        ... \n",
      "1397      33\n",
      "1442      28\n",
      "1373      24\n",
      "1016      20\n",
      "1257      14\n",
      "Name: user_id, Length: 492, dtype: int64\n",
      "0         1\n",
      "99574     1\n",
      "99594     1\n",
      "99595     1\n",
      "99596     1\n",
      "         ..\n",
      "49798     1\n",
      "49799     1\n",
      "49800     1\n",
      "49801     1\n",
      "149395    1\n",
      "Name: Unnamed: 0, Length: 149396, dtype: int64\n",
      "1000_0      1\n",
      "1333_109    1\n",
      "1334_0      1\n",
      "1334_1      1\n",
      "1334_2      1\n",
      "           ..\n",
      "1172_80     1\n",
      "1172_81     1\n",
      "1172_82     1\n",
      "1172_83     1\n",
      "1499_156    1\n",
      "Name: id, Length: 149396, dtype: int64\n",
      "0.00      19598\n",
      "335.91        9\n",
      "447.30        9\n",
      "197.56        9\n",
      "199.11        8\n",
      "          ...  \n",
      "643.43        1\n",
      "973.04        1\n",
      "834.51        1\n",
      "777.30        1\n",
      "23.72         1\n",
      "Name: mb_used, Length: 70003, dtype: int64\n",
      "2018-12-31    1057\n",
      "2018-12-30     903\n",
      "2018-12-25     859\n",
      "2018-12-26     844\n",
      "2018-12-22     834\n",
      "              ... \n",
      "2018-01-05      14\n",
      "2018-01-04       9\n",
      "2018-01-03       6\n",
      "2018-01-02       3\n",
      "2018-01-01       3\n",
      "Name: session_date, Length: 365, dtype: int64\n",
      "1496    834\n",
      "1227    812\n",
      "1204    789\n",
      "1240    764\n",
      "1251    759\n",
      "       ... \n",
      "1151     35\n",
      "1467     27\n",
      "1343     26\n",
      "1192     22\n",
      "1399      8\n",
      "Name: user_id, Length: 497, dtype: int64\n",
      "1000_0      1\n",
      "1344_248    1\n",
      "1344_96     1\n",
      "1344_95     1\n",
      "1344_94     1\n",
      "           ..\n",
      "1174_352    1\n",
      "1174_351    1\n",
      "1174_350    1\n",
      "1174_349    1\n",
      "1499_183    1\n",
      "Name: id, Length: 123036, dtype: int64\n",
      "2018-12-31    859\n",
      "2018-12-30    765\n",
      "2018-12-21    712\n",
      "2018-12-29    702\n",
      "2018-12-28    699\n",
      "             ... \n",
      "2018-01-11     12\n",
      "2018-01-05     10\n",
      "2018-01-04     10\n",
      "2018-01-02     10\n",
      "2018-01-03      4\n",
      "Name: message_date, Length: 364, dtype: int64\n",
      "1277    1463\n",
      "1089    1408\n",
      "1231    1384\n",
      "1385    1380\n",
      "1356    1224\n",
      "        ... \n",
      "1389       6\n",
      "1279       5\n",
      "1074       3\n",
      "1159       2\n",
      "1141       1\n",
      "Name: user_id, Length: 426, dtype: int64\n",
      "1000    1\n",
      "1329    1\n",
      "1342    1\n",
      "1341    1\n",
      "1340    1\n",
      "       ..\n",
      "1161    1\n",
      "1160    1\n",
      "1159    1\n",
      "1158    1\n",
      "1499    1\n",
      "Name: user_id, Length: 500, dtype: int64\n",
      "53    14\n",
      "42    14\n",
      "63    13\n",
      "64    13\n",
      "71    13\n",
      "73    12\n",
      "21    12\n",
      "40    12\n",
      "37    11\n",
      "29    11\n",
      "39    11\n",
      "26    11\n",
      "47    11\n",
      "70    10\n",
      "45    10\n",
      "41    10\n",
      "52    10\n",
      "58    10\n",
      "36    10\n",
      "66     9\n",
      "23     9\n",
      "50     9\n",
      "65     9\n",
      "19     9\n",
      "48     9\n",
      "24     9\n",
      "68     9\n",
      "27     9\n",
      "28     9\n",
      "51     9\n",
      "20     9\n",
      "56     9\n",
      "30     9\n",
      "60     8\n",
      "44     8\n",
      "69     8\n",
      "62     8\n",
      "55     8\n",
      "74     7\n",
      "25     7\n",
      "46     7\n",
      "35     7\n",
      "32     7\n",
      "67     7\n",
      "43     7\n",
      "31     7\n",
      "18     6\n",
      "75     6\n",
      "54     6\n",
      "59     6\n",
      "72     5\n",
      "22     5\n",
      "34     5\n",
      "33     5\n",
      "38     5\n",
      "49     4\n",
      "57     4\n",
      "61     3\n",
      "Name: age, dtype: int64\n",
      "2018-12-03    2\n",
      "2018-10-03    2\n",
      "2018-10-14    2\n",
      "2018-12-09    2\n",
      "2018-12-21    2\n",
      "2018-12-30    1\n",
      "2018-10-28    1\n",
      "2018-11-26    1\n",
      "2018-11-27    1\n",
      "2018-11-16    1\n",
      "2018-10-27    1\n",
      "2018-10-05    1\n",
      "2018-09-27    1\n",
      "2018-11-13    1\n",
      "2018-12-25    1\n",
      "2018-12-14    1\n",
      "2018-12-24    1\n",
      "2018-09-26    1\n",
      "2018-11-22    1\n",
      "2018-08-17    1\n",
      "2018-10-04    1\n",
      "2018-09-02    1\n",
      "2018-12-18    1\n",
      "2018-11-30    1\n",
      "2018-12-20    1\n",
      "2018-12-16    1\n",
      "2018-11-07    1\n",
      "2018-12-23    1\n",
      "2018-08-31    1\n",
      "2018-12-26    1\n",
      "2018-12-11    1\n",
      "2018-11-21    1\n",
      "2018-10-25    1\n",
      "Name: churn_date, dtype: int64\n",
      "Москва             99\n",
      "Санкт-Петербург    39\n",
      "Новосибирск        16\n",
      "Омск               14\n",
      "Казань             14\n",
      "                   ..\n",
      "Архангельск         1\n",
      "Иваново             1\n",
      "Нижневартовск       1\n",
      "Химки               1\n",
      "Подольск            1\n",
      "Name: city, Length: 76, dtype: int64\n",
      "Радим      6\n",
      "Леонид     5\n",
      "Пётр       5\n",
      "Андрей     4\n",
      "Адам       4\n",
      "          ..\n",
      "Зинаида    1\n",
      "Глеб       1\n",
      "Роза       1\n",
      "Юзефа      1\n",
      "Трифон     1\n",
      "Name: first_name, Length: 246, dtype: int64\n",
      "Андреенко     5\n",
      "Березина      3\n",
      "Аркадьев      3\n",
      "Булгаков      3\n",
      "Соловьев      3\n",
      "             ..\n",
      "Медведев      1\n",
      "Минаева       1\n",
      "Авдонюшкин    1\n",
      "Андрейчук     1\n",
      "Акимчин       1\n",
      "Name: last_name, Length: 419, dtype: int64\n",
      "2018-05-28    8\n",
      "2018-11-16    5\n",
      "2018-10-05    5\n",
      "2018-04-03    5\n",
      "2018-01-04    5\n",
      "             ..\n",
      "2018-09-20    1\n",
      "2018-04-28    1\n",
      "2018-08-07    1\n",
      "2018-06-18    1\n",
      "2018-04-25    1\n",
      "Name: reg_date, Length: 270, dtype: int64\n",
      "smart    351\n",
      "ultra    149\n",
      "Name: tariff, dtype: int64\n",
      "50      1\n",
      "1000    1\n",
      "Name: messages_included, dtype: int64\n",
      "15360    1\n",
      "30720    1\n",
      "Name: mb_per_month_included, dtype: int64\n",
      "500     1\n",
      "3000    1\n",
      "Name: minutes_included, dtype: int64\n",
      "550     1\n",
      "1950    1\n",
      "Name: rub_monthly_fee, dtype: int64\n",
      "200    1\n",
      "150    1\n",
      "Name: rub_per_gb, dtype: int64\n",
      "3    1\n",
      "1    1\n",
      "Name: rub_per_message, dtype: int64\n",
      "3    1\n",
      "1    1\n",
      "Name: rub_per_minute, dtype: int64\n",
      "smart    1\n",
      "ultra    1\n",
      "Name: tariff_name, dtype: int64\n"
     ]
    }
   ],
   "source": [
    "for table in tables:\n",
    "    for column in table.columns:\n",
    "        print(table[column].value_counts()) #в цикле выведем списки уникальных значений по столбцам"
   ]
  },
  {
   "cell_type": "code",
   "execution_count": 4,
   "id": "b1440065",
   "metadata": {},
   "outputs": [
    {
     "name": "stdout",
     "output_type": "stream",
     "text": [
      "count     202607\n",
      "unique    202607\n",
      "top       1000_0\n",
      "freq           1\n",
      "Name: id, dtype: object\n",
      "count         202607\n",
      "unique           365\n",
      "top       2018-12-31\n",
      "freq            1435\n",
      "Name: call_date, dtype: object\n",
      "count   202607.00\n",
      "mean         6.76\n",
      "std          5.84\n",
      "min          0.00\n",
      "25%          1.30\n",
      "50%          6.00\n",
      "75%         10.70\n",
      "max         38.00\n",
      "Name: duration, dtype: float64\n",
      "count   202607.00\n",
      "mean      1253.94\n",
      "std        144.72\n",
      "min       1000.00\n",
      "25%       1126.00\n",
      "50%       1260.00\n",
      "75%       1379.00\n",
      "max       1499.00\n",
      "Name: user_id, dtype: float64\n",
      "count   149396.00\n",
      "mean     74697.50\n",
      "std      43127.05\n",
      "min          0.00\n",
      "25%      37348.75\n",
      "50%      74697.50\n",
      "75%     112046.25\n",
      "max     149395.00\n",
      "Name: Unnamed: 0, dtype: float64\n",
      "count     149396\n",
      "unique    149396\n",
      "top       1000_0\n",
      "freq           1\n",
      "Name: id, dtype: object\n",
      "count   149396.00\n",
      "mean       370.19\n",
      "std        278.30\n",
      "min          0.00\n",
      "25%        138.19\n",
      "50%        348.01\n",
      "75%        559.55\n",
      "max       1724.83\n",
      "Name: mb_used, dtype: float64\n",
      "count         149396\n",
      "unique           365\n",
      "top       2018-12-31\n",
      "freq            1057\n",
      "Name: session_date, dtype: object\n",
      "count   149396.00\n",
      "mean      1252.10\n",
      "std        144.05\n",
      "min       1000.00\n",
      "25%       1130.00\n",
      "50%       1251.00\n",
      "75%       1380.00\n",
      "max       1499.00\n",
      "Name: user_id, dtype: float64\n",
      "count     123036\n",
      "unique    123036\n",
      "top       1000_0\n",
      "freq           1\n",
      "Name: id, dtype: object\n",
      "count         123036\n",
      "unique           364\n",
      "top       2018-12-31\n",
      "freq             859\n",
      "Name: message_date, dtype: object\n",
      "count   123036.00\n",
      "mean      1256.99\n",
      "std        143.52\n",
      "min       1000.00\n",
      "25%       1134.00\n",
      "50%       1271.00\n",
      "75%       1381.00\n",
      "max       1499.00\n",
      "Name: user_id, dtype: float64\n",
      "count    500.00\n",
      "mean    1249.50\n",
      "std      144.48\n",
      "min     1000.00\n",
      "25%     1124.75\n",
      "50%     1249.50\n",
      "75%     1374.25\n",
      "max     1499.00\n",
      "Name: user_id, dtype: float64\n",
      "count   500.00\n",
      "mean     46.59\n",
      "std      16.67\n",
      "min      18.00\n",
      "25%      32.00\n",
      "50%      46.00\n",
      "75%      62.00\n",
      "max      75.00\n",
      "Name: age, dtype: float64\n",
      "count             38\n",
      "unique            33\n",
      "top       2018-12-03\n",
      "freq               2\n",
      "Name: churn_date, dtype: object\n",
      "count        500\n",
      "unique        76\n",
      "top       Москва\n",
      "freq          99\n",
      "Name: city, dtype: object\n",
      "count       500\n",
      "unique      246\n",
      "top       Радим\n",
      "freq          6\n",
      "Name: first_name, dtype: object\n",
      "count           500\n",
      "unique          419\n",
      "top       Андреенко\n",
      "freq              5\n",
      "Name: last_name, dtype: object\n",
      "count            500\n",
      "unique           270\n",
      "top       2018-05-28\n",
      "freq               8\n",
      "Name: reg_date, dtype: object\n",
      "count       500\n",
      "unique        2\n",
      "top       smart\n",
      "freq        351\n",
      "Name: tariff, dtype: object\n",
      "count      2.00\n",
      "mean     525.00\n",
      "std      671.75\n",
      "min       50.00\n",
      "25%      287.50\n",
      "50%      525.00\n",
      "75%      762.50\n",
      "max     1000.00\n",
      "Name: messages_included, dtype: float64\n",
      "count       2.00\n",
      "mean    23040.00\n",
      "std     10861.16\n",
      "min     15360.00\n",
      "25%     19200.00\n",
      "50%     23040.00\n",
      "75%     26880.00\n",
      "max     30720.00\n",
      "Name: mb_per_month_included, dtype: float64\n",
      "count      2.00\n",
      "mean    1750.00\n",
      "std     1767.77\n",
      "min      500.00\n",
      "25%     1125.00\n",
      "50%     1750.00\n",
      "75%     2375.00\n",
      "max     3000.00\n",
      "Name: minutes_included, dtype: float64\n",
      "count      2.00\n",
      "mean    1250.00\n",
      "std      989.95\n",
      "min      550.00\n",
      "25%      900.00\n",
      "50%     1250.00\n",
      "75%     1600.00\n",
      "max     1950.00\n",
      "Name: rub_monthly_fee, dtype: float64\n",
      "count     2.00\n",
      "mean    175.00\n",
      "std      35.36\n",
      "min     150.00\n",
      "25%     162.50\n",
      "50%     175.00\n",
      "75%     187.50\n",
      "max     200.00\n",
      "Name: rub_per_gb, dtype: float64\n",
      "count   2.00\n",
      "mean    2.00\n",
      "std     1.41\n",
      "min     1.00\n",
      "25%     1.50\n",
      "50%     2.00\n",
      "75%     2.50\n",
      "max     3.00\n",
      "Name: rub_per_message, dtype: float64\n",
      "count   2.00\n",
      "mean    2.00\n",
      "std     1.41\n",
      "min     1.00\n",
      "25%     1.50\n",
      "50%     2.00\n",
      "75%     2.50\n",
      "max     3.00\n",
      "Name: rub_per_minute, dtype: float64\n",
      "count         2\n",
      "unique        2\n",
      "top       smart\n",
      "freq          1\n",
      "Name: tariff_name, dtype: object\n"
     ]
    }
   ],
   "source": [
    "for table in tables:\n",
    "    for column in table.columns:\n",
    "        print(table[column].describe()) #в цикле с помощью метода describe выводим числовое описание данных"
   ]
  },
  {
   "cell_type": "markdown",
   "id": "506812dc",
   "metadata": {},
   "source": [
    "В данных встречаются столбцы с датами в формате object. Переконвертируем их в тип datetime."
   ]
  },
  {
   "cell_type": "code",
   "execution_count": 5,
   "id": "fa4c98ea",
   "metadata": {},
   "outputs": [],
   "source": [
    "users['reg_date'] = pd.to_datetime(users['reg_date'], format = '%Y-%m-%d') # используем метод to_datetime для конвертации\n",
    "users['churn_date'] = pd.to_datetime(users['churn_date'], format = '%Y-%m-%d')\n",
    "calls['call_date'] = pd.to_datetime(calls['call_date'], format = '%Y-%m-%d')\n",
    "messages['message_date'] = pd.to_datetime(messages['message_date'], format = '%Y-%m-%d')\n",
    "internet['session_date'] = pd.to_datetime(internet['session_date'], format = '%Y-%m-%d')"
   ]
  },
  {
   "cell_type": "markdown",
   "id": "b61550b9",
   "metadata": {},
   "source": [
    "Изменим тип данных в столбцах с float64 на float32 для экономии памяти"
   ]
  },
  {
   "cell_type": "code",
   "execution_count": 6,
   "id": "a8f88c92",
   "metadata": {},
   "outputs": [],
   "source": [
    "for table in tables: # проходим в цикле по столбцам датафрейма и меняем тип данных с float64 на float32, где это возможно\n",
    "    for column in table.columns:\n",
    "        if table[column].dtype == 'float64':\n",
    "            table[column] = table[column].astype('float32', errors = 'ignore')"
   ]
  },
  {
   "cell_type": "markdown",
   "id": "116f1fa4",
   "metadata": {},
   "source": [
    "### Исправление ошибок в данных"
   ]
  },
  {
   "cell_type": "markdown",
   "id": "fa67f69c",
   "metadata": {},
   "source": [
    "В таблице internet встречается столбец \"Unnamed\", заполненный дубликатами номера строки. Удалим данный столбец из датафрейма."
   ]
  },
  {
   "cell_type": "code",
   "execution_count": 7,
   "id": "77454ca1",
   "metadata": {},
   "outputs": [],
   "source": [
    "internet = internet.drop(columns = 'Unnamed: 0') # удаляем столбец датафрейма методом drop"
   ]
  },
  {
   "cell_type": "markdown",
   "id": "7ae651ed",
   "metadata": {},
   "source": [
    "Проверим наличие пропусков в данных"
   ]
  },
  {
   "cell_type": "code",
   "execution_count": 8,
   "id": "68b21f5b",
   "metadata": {},
   "outputs": [
    {
     "data": {
      "text/plain": [
       "id          0.00\n",
       "call_date   0.00\n",
       "duration    0.00\n",
       "user_id     0.00\n",
       "dtype: float64"
      ]
     },
     "metadata": {},
     "output_type": "display_data"
    },
    {
     "data": {
      "text/plain": [
       "Unnamed: 0     0.00\n",
       "id             0.00\n",
       "mb_used        0.00\n",
       "session_date   0.00\n",
       "user_id        0.00\n",
       "dtype: float64"
      ]
     },
     "metadata": {},
     "output_type": "display_data"
    },
    {
     "data": {
      "text/plain": [
       "id             0.00\n",
       "message_date   0.00\n",
       "user_id        0.00\n",
       "dtype: float64"
      ]
     },
     "metadata": {},
     "output_type": "display_data"
    },
    {
     "data": {
      "text/plain": [
       "user_id       0.00\n",
       "age           0.00\n",
       "churn_date   12.16\n",
       "city          0.00\n",
       "first_name    0.00\n",
       "last_name     0.00\n",
       "reg_date      0.00\n",
       "tariff        0.00\n",
       "dtype: float64"
      ]
     },
     "metadata": {},
     "output_type": "display_data"
    },
    {
     "data": {
      "text/plain": [
       "messages_included       0.00\n",
       "mb_per_month_included   0.00\n",
       "minutes_included        0.00\n",
       "rub_monthly_fee         0.00\n",
       "rub_per_gb              0.00\n",
       "rub_per_message         0.00\n",
       "rub_per_minute          0.00\n",
       "tariff_name             0.00\n",
       "dtype: float64"
      ]
     },
     "metadata": {},
     "output_type": "display_data"
    }
   ],
   "source": [
    "for table in tables: # создаем цикл для вывода доли пропущенных значений в датафреймах\n",
    "    table_na = table.isna().sum() / table.count()\n",
    "    table_na.sort_values(ascending = False)\n",
    "    display(table_na)"
   ]
  },
  {
   "cell_type": "markdown",
   "id": "0b44c925",
   "metadata": {},
   "source": [
    "Пропуски значений есть только в столбце churn_date, что не является ошибкой, пропуск значения означает, что тариф был активен для пользователя на момент выгрузки данных. "
   ]
  },
  {
   "cell_type": "markdown",
   "id": "72d2e2cd",
   "metadata": {},
   "source": [
    "В данных не выявлены неявные дубликаты. Поэтому проверим и удалим явные дубликаты (при их наличии) и перейдем к следующему этапу."
   ]
  },
  {
   "cell_type": "code",
   "execution_count": 9,
   "id": "5b204080",
   "metadata": {},
   "outputs": [
    {
     "data": {
      "text/plain": [
       "0"
      ]
     },
     "metadata": {},
     "output_type": "display_data"
    },
    {
     "data": {
      "text/plain": [
       "0"
      ]
     },
     "metadata": {},
     "output_type": "display_data"
    },
    {
     "data": {
      "text/plain": [
       "0"
      ]
     },
     "metadata": {},
     "output_type": "display_data"
    },
    {
     "data": {
      "text/plain": [
       "0"
      ]
     },
     "metadata": {},
     "output_type": "display_data"
    },
    {
     "data": {
      "text/plain": [
       "0"
      ]
     },
     "metadata": {},
     "output_type": "display_data"
    }
   ],
   "source": [
    "for table in tables: # проверим данные на явные дубликаты\n",
    "    display(table.duplicated().sum())"
   ]
  },
  {
   "cell_type": "markdown",
   "id": "df3ff78b",
   "metadata": {},
   "source": [
    "Явных дубликатов не обнаружено, переходим к следующему этапу."
   ]
  },
  {
   "cell_type": "markdown",
   "id": "6d2c4a04",
   "metadata": {},
   "source": [
    "### Расчет вспомогательных параметров"
   ]
  },
  {
   "cell_type": "markdown",
   "id": "52ed39bc",
   "metadata": {},
   "source": [
    "Рассчитаем для каждого пользователя:\n",
    "\n",
    "* количество сделанных звонков и израсходованных минут разговора по месяцам;\n",
    "* количество отправленных сообщений по месяцам;\n",
    "* объем израсходованного интернет-трафика по месяцам;\n",
    "* помесячную выручку с каждого пользователя"
   ]
  },
  {
   "cell_type": "markdown",
   "id": "e3c02f81",
   "metadata": {},
   "source": [
    "Также нам нужно будет округлить секунды звонков до минут и использованные мегабайты трафика в месяц до гигабайт, согласно условиям тарифов."
   ]
  },
  {
   "cell_type": "markdown",
   "id": "bb3c0f75",
   "metadata": {},
   "source": [
    "Добавим номер месяца в таблицы. В датафреймах представлены данные за 1 год (2018), поэтому добавления номера месяца будет достаточно."
   ]
  },
  {
   "cell_type": "code",
   "execution_count": 10,
   "id": "c1b6fbc7",
   "metadata": {},
   "outputs": [],
   "source": [
    "calls['month'] = calls['call_date'].dt.month # используем метод dt.month для определения номера месяца\n",
    "messages['month'] = messages['message_date'].dt.month\n",
    "internet['month'] = internet['session_date'].dt.month"
   ]
  },
  {
   "cell_type": "markdown",
   "id": "8ea81df7",
   "metadata": {},
   "source": [
    "**Округлим длительность звонков до минут**"
   ]
  },
  {
   "cell_type": "code",
   "execution_count": 11,
   "id": "b4282db7",
   "metadata": {},
   "outputs": [
    {
     "data": {
      "text/html": [
       "<div>\n",
       "<style scoped>\n",
       "    .dataframe tbody tr th:only-of-type {\n",
       "        vertical-align: middle;\n",
       "    }\n",
       "\n",
       "    .dataframe tbody tr th {\n",
       "        vertical-align: top;\n",
       "    }\n",
       "\n",
       "    .dataframe thead th {\n",
       "        text-align: right;\n",
       "    }\n",
       "</style>\n",
       "<table border=\"1\" class=\"dataframe\">\n",
       "  <thead>\n",
       "    <tr style=\"text-align: right;\">\n",
       "      <th></th>\n",
       "      <th>id</th>\n",
       "      <th>call_date</th>\n",
       "      <th>duration</th>\n",
       "      <th>user_id</th>\n",
       "      <th>month</th>\n",
       "    </tr>\n",
       "  </thead>\n",
       "  <tbody>\n",
       "    <tr>\n",
       "      <th>0</th>\n",
       "      <td>1000_0</td>\n",
       "      <td>2018-07-25</td>\n",
       "      <td>0.00</td>\n",
       "      <td>1000</td>\n",
       "      <td>7</td>\n",
       "    </tr>\n",
       "    <tr>\n",
       "      <th>1</th>\n",
       "      <td>1000_1</td>\n",
       "      <td>2018-08-17</td>\n",
       "      <td>0.00</td>\n",
       "      <td>1000</td>\n",
       "      <td>8</td>\n",
       "    </tr>\n",
       "    <tr>\n",
       "      <th>2</th>\n",
       "      <td>1000_2</td>\n",
       "      <td>2018-06-11</td>\n",
       "      <td>3.00</td>\n",
       "      <td>1000</td>\n",
       "      <td>6</td>\n",
       "    </tr>\n",
       "    <tr>\n",
       "      <th>3</th>\n",
       "      <td>1000_3</td>\n",
       "      <td>2018-09-21</td>\n",
       "      <td>14.00</td>\n",
       "      <td>1000</td>\n",
       "      <td>9</td>\n",
       "    </tr>\n",
       "    <tr>\n",
       "      <th>4</th>\n",
       "      <td>1000_4</td>\n",
       "      <td>2018-12-15</td>\n",
       "      <td>6.00</td>\n",
       "      <td>1000</td>\n",
       "      <td>12</td>\n",
       "    </tr>\n",
       "  </tbody>\n",
       "</table>\n",
       "</div>"
      ],
      "text/plain": [
       "       id  call_date  duration  user_id  month\n",
       "0  1000_0 2018-07-25      0.00     1000      7\n",
       "1  1000_1 2018-08-17      0.00     1000      8\n",
       "2  1000_2 2018-06-11      3.00     1000      6\n",
       "3  1000_3 2018-09-21     14.00     1000      9\n",
       "4  1000_4 2018-12-15      6.00     1000     12"
      ]
     },
     "metadata": {},
     "output_type": "display_data"
    }
   ],
   "source": [
    "import numpy as np # импортируем библиотеку numpy\n",
    "\n",
    "calls['duration'] = np.ceil(calls['duration'])\n",
    "# применяем метод  ceil для округления длительности звонков до целых минут\n",
    "display(calls.head()) # проверяем результат"
   ]
  },
  {
   "cell_type": "markdown",
   "id": "9785c3b2",
   "metadata": {},
   "source": [
    "В данных довольно много звонков с нулевой длительностью. Скорее всего это пропущенные, либо неотвеченные вызовы."
   ]
  },
  {
   "cell_type": "code",
   "execution_count": 12,
   "id": "34416e88",
   "metadata": {},
   "outputs": [
    {
     "name": "stdout",
     "output_type": "stream",
     "text": [
      "Количество пропущенных звонков 39613\n",
      "Общее количество звонков 202607\n"
     ]
    }
   ],
   "source": [
    "print('Количество пропущенных звонков', calls[calls['duration'] == 0]['duration'].count())\n",
    "print('Общее количество звонков', calls['duration'].count())"
   ]
  },
  {
   "cell_type": "markdown",
   "id": "102866b9",
   "metadata": {},
   "source": [
    "Тем не менее, для статистики звонков реальных пользователей такая ситуация нормальна, исправлять данные не требуется. Звонки с нулевой продолжительностью не окажут влияния на дальнейшие подсчеты, так как оператор связи использует поминутную тарификацию."
   ]
  },
  {
   "cell_type": "markdown",
   "id": "e231c4df",
   "metadata": {},
   "source": [
    "Далее рассчитаем необходимые параметры, воспользовавшись функционалом сводных таблиц."
   ]
  },
  {
   "cell_type": "markdown",
   "id": "40fd8578",
   "metadata": {},
   "source": [
    "**Рассчитываем количество и продолжительность звонков**"
   ]
  },
  {
   "cell_type": "code",
   "execution_count": 13,
   "id": "7c6ed4cf",
   "metadata": {},
   "outputs": [
    {
     "data": {
      "text/html": [
       "<div>\n",
       "<style scoped>\n",
       "    .dataframe tbody tr th:only-of-type {\n",
       "        vertical-align: middle;\n",
       "    }\n",
       "\n",
       "    .dataframe tbody tr th {\n",
       "        vertical-align: top;\n",
       "    }\n",
       "\n",
       "    .dataframe thead th {\n",
       "        text-align: right;\n",
       "    }\n",
       "</style>\n",
       "<table border=\"1\" class=\"dataframe\">\n",
       "  <thead>\n",
       "    <tr style=\"text-align: right;\">\n",
       "      <th></th>\n",
       "      <th>user_id</th>\n",
       "      <th>month</th>\n",
       "      <th>calls_duration</th>\n",
       "      <th>calls_number</th>\n",
       "    </tr>\n",
       "  </thead>\n",
       "  <tbody>\n",
       "    <tr>\n",
       "      <th>0</th>\n",
       "      <td>1000</td>\n",
       "      <td>5</td>\n",
       "      <td>159.00</td>\n",
       "      <td>22</td>\n",
       "    </tr>\n",
       "    <tr>\n",
       "      <th>1</th>\n",
       "      <td>1000</td>\n",
       "      <td>6</td>\n",
       "      <td>172.00</td>\n",
       "      <td>43</td>\n",
       "    </tr>\n",
       "    <tr>\n",
       "      <th>2</th>\n",
       "      <td>1000</td>\n",
       "      <td>7</td>\n",
       "      <td>340.00</td>\n",
       "      <td>47</td>\n",
       "    </tr>\n",
       "    <tr>\n",
       "      <th>3</th>\n",
       "      <td>1000</td>\n",
       "      <td>8</td>\n",
       "      <td>408.00</td>\n",
       "      <td>52</td>\n",
       "    </tr>\n",
       "    <tr>\n",
       "      <th>4</th>\n",
       "      <td>1000</td>\n",
       "      <td>9</td>\n",
       "      <td>466.00</td>\n",
       "      <td>58</td>\n",
       "    </tr>\n",
       "  </tbody>\n",
       "</table>\n",
       "</div>"
      ],
      "text/plain": [
       "   user_id  month  calls_duration  calls_number\n",
       "0     1000      5          159.00            22\n",
       "1     1000      6          172.00            43\n",
       "2     1000      7          340.00            47\n",
       "3     1000      8          408.00            52\n",
       "4     1000      9          466.00            58"
      ]
     },
     "metadata": {},
     "output_type": "display_data"
    }
   ],
   "source": [
    "calls_pivot = calls.pivot_table(index = ['user_id', 'month'], values = 'duration', aggfunc = ['sum', 'count'])\n",
    "#рассчитываем количество сделанных звонков и израсходованных минут по месяцам\n",
    "calls_pivot = calls_pivot.reset_index(level = ['user_id', 'month']) # сбрасываем индекс для повторения user_id в каждой строке\n",
    "calls_pivot.columns = [\"_\".join(a) for a in calls_pivot.columns.to_flat_index()]\n",
    "# \"схлопываем\" двухуровневые названия столбцов методом to_flat_index\n",
    "calls_pivot = calls_pivot.rename(columns = {'user_id_': 'user_id', 'sum_duration': 'calls_duration', 'count_duration': 'calls_number', 'month_':'month'}) # переименовываем столбец с количеством сообщений\n",
    "# переименовываем названия столбцов\n",
    "display(calls_pivot.head())"
   ]
  },
  {
   "cell_type": "markdown",
   "id": "2a19b318",
   "metadata": {},
   "source": [
    "**Рассчитываем количество сообщений**"
   ]
  },
  {
   "cell_type": "code",
   "execution_count": 14,
   "id": "e4cca222",
   "metadata": {},
   "outputs": [
    {
     "data": {
      "text/html": [
       "<div>\n",
       "<style scoped>\n",
       "    .dataframe tbody tr th:only-of-type {\n",
       "        vertical-align: middle;\n",
       "    }\n",
       "\n",
       "    .dataframe tbody tr th {\n",
       "        vertical-align: top;\n",
       "    }\n",
       "\n",
       "    .dataframe thead th {\n",
       "        text-align: right;\n",
       "    }\n",
       "</style>\n",
       "<table border=\"1\" class=\"dataframe\">\n",
       "  <thead>\n",
       "    <tr style=\"text-align: right;\">\n",
       "      <th></th>\n",
       "      <th>user_id</th>\n",
       "      <th>month</th>\n",
       "      <th>messages_number</th>\n",
       "    </tr>\n",
       "  </thead>\n",
       "  <tbody>\n",
       "    <tr>\n",
       "      <th>0</th>\n",
       "      <td>1000</td>\n",
       "      <td>5</td>\n",
       "      <td>22</td>\n",
       "    </tr>\n",
       "    <tr>\n",
       "      <th>1</th>\n",
       "      <td>1000</td>\n",
       "      <td>6</td>\n",
       "      <td>60</td>\n",
       "    </tr>\n",
       "    <tr>\n",
       "      <th>2</th>\n",
       "      <td>1000</td>\n",
       "      <td>7</td>\n",
       "      <td>75</td>\n",
       "    </tr>\n",
       "    <tr>\n",
       "      <th>3</th>\n",
       "      <td>1000</td>\n",
       "      <td>8</td>\n",
       "      <td>81</td>\n",
       "    </tr>\n",
       "    <tr>\n",
       "      <th>4</th>\n",
       "      <td>1000</td>\n",
       "      <td>9</td>\n",
       "      <td>57</td>\n",
       "    </tr>\n",
       "  </tbody>\n",
       "</table>\n",
       "</div>"
      ],
      "text/plain": [
       "   user_id  month  messages_number\n",
       "0     1000      5               22\n",
       "1     1000      6               60\n",
       "2     1000      7               75\n",
       "3     1000      8               81\n",
       "4     1000      9               57"
      ]
     },
     "metadata": {},
     "output_type": "display_data"
    }
   ],
   "source": [
    "messages_pivot = messages.pivot_table(index = ['user_id', 'month'], values = 'id', aggfunc = 'count')\n",
    "#рассчитываем количество отправленных сообщений по месяцам\n",
    "messages_pivot = messages_pivot.reset_index(level = ['user_id', 'month']) # сбрасываем индекс для повторения user_id в каждой строке\n",
    "messages_pivot = messages_pivot.rename(columns = {'id': 'messages_number'}) # переименовываем столбец с количеством сообщений\n",
    "display(messages_pivot.head())"
   ]
  },
  {
   "cell_type": "markdown",
   "id": "6d091ca3",
   "metadata": {},
   "source": [
    "**Рассчитываем количество использованных мегабайт, округлим до целого количества Гб**"
   ]
  },
  {
   "cell_type": "code",
   "execution_count": 15,
   "id": "4a4376e5",
   "metadata": {},
   "outputs": [
    {
     "data": {
      "text/html": [
       "<div>\n",
       "<style scoped>\n",
       "    .dataframe tbody tr th:only-of-type {\n",
       "        vertical-align: middle;\n",
       "    }\n",
       "\n",
       "    .dataframe tbody tr th {\n",
       "        vertical-align: top;\n",
       "    }\n",
       "\n",
       "    .dataframe thead th {\n",
       "        text-align: right;\n",
       "    }\n",
       "</style>\n",
       "<table border=\"1\" class=\"dataframe\">\n",
       "  <thead>\n",
       "    <tr style=\"text-align: right;\">\n",
       "      <th></th>\n",
       "      <th>user_id</th>\n",
       "      <th>month</th>\n",
       "      <th>mb_used</th>\n",
       "      <th>gb_used</th>\n",
       "    </tr>\n",
       "  </thead>\n",
       "  <tbody>\n",
       "    <tr>\n",
       "      <th>0</th>\n",
       "      <td>1000</td>\n",
       "      <td>5</td>\n",
       "      <td>2253.49</td>\n",
       "      <td>3.00</td>\n",
       "    </tr>\n",
       "    <tr>\n",
       "      <th>1</th>\n",
       "      <td>1000</td>\n",
       "      <td>6</td>\n",
       "      <td>23233.77</td>\n",
       "      <td>23.00</td>\n",
       "    </tr>\n",
       "    <tr>\n",
       "      <th>2</th>\n",
       "      <td>1000</td>\n",
       "      <td>7</td>\n",
       "      <td>14003.64</td>\n",
       "      <td>14.00</td>\n",
       "    </tr>\n",
       "    <tr>\n",
       "      <th>3</th>\n",
       "      <td>1000</td>\n",
       "      <td>8</td>\n",
       "      <td>14055.93</td>\n",
       "      <td>14.00</td>\n",
       "    </tr>\n",
       "    <tr>\n",
       "      <th>4</th>\n",
       "      <td>1000</td>\n",
       "      <td>9</td>\n",
       "      <td>14568.91</td>\n",
       "      <td>15.00</td>\n",
       "    </tr>\n",
       "  </tbody>\n",
       "</table>\n",
       "</div>"
      ],
      "text/plain": [
       "   user_id  month  mb_used  gb_used\n",
       "0     1000      5  2253.49     3.00\n",
       "1     1000      6 23233.77    23.00\n",
       "2     1000      7 14003.64    14.00\n",
       "3     1000      8 14055.93    14.00\n",
       "4     1000      9 14568.91    15.00"
      ]
     },
     "metadata": {},
     "output_type": "display_data"
    }
   ],
   "source": [
    "internet_pivot = internet.pivot_table(index = ['user_id', 'month'], values = 'mb_used', aggfunc = 'sum')\n",
    "#рассчитываем количество использованных мегабайт по месяцам\n",
    "internet_pivot = internet_pivot.reset_index(level = ['user_id', 'month']) # сбрасываем индекс для повторения user_id в каждой строке\n",
    "internet_pivot['gb_used'] = (internet_pivot['mb_used']/1024).apply('ceil')\n",
    "display(internet_pivot.head())"
   ]
  },
  {
   "cell_type": "markdown",
   "id": "1218c2e6",
   "metadata": {},
   "source": [
    "**Объединим таблицы для удобства дальнейшего анализа методом merge**"
   ]
  },
  {
   "cell_type": "code",
   "execution_count": 16,
   "id": "932189a9",
   "metadata": {},
   "outputs": [
    {
     "data": {
      "text/html": [
       "<div>\n",
       "<style scoped>\n",
       "    .dataframe tbody tr th:only-of-type {\n",
       "        vertical-align: middle;\n",
       "    }\n",
       "\n",
       "    .dataframe tbody tr th {\n",
       "        vertical-align: top;\n",
       "    }\n",
       "\n",
       "    .dataframe thead th {\n",
       "        text-align: right;\n",
       "    }\n",
       "</style>\n",
       "<table border=\"1\" class=\"dataframe\">\n",
       "  <thead>\n",
       "    <tr style=\"text-align: right;\">\n",
       "      <th></th>\n",
       "      <th>user_id</th>\n",
       "      <th>month</th>\n",
       "      <th>calls_duration</th>\n",
       "      <th>calls_number</th>\n",
       "      <th>messages_number</th>\n",
       "      <th>mb_used</th>\n",
       "      <th>gb_used</th>\n",
       "      <th>age</th>\n",
       "      <th>churn_date</th>\n",
       "      <th>city</th>\n",
       "      <th>...</th>\n",
       "      <th>last_name</th>\n",
       "      <th>reg_date</th>\n",
       "      <th>tariff_name</th>\n",
       "      <th>messages_included</th>\n",
       "      <th>mb_per_month_included</th>\n",
       "      <th>minutes_included</th>\n",
       "      <th>rub_monthly_fee</th>\n",
       "      <th>rub_per_gb</th>\n",
       "      <th>rub_per_message</th>\n",
       "      <th>rub_per_minute</th>\n",
       "    </tr>\n",
       "  </thead>\n",
       "  <tbody>\n",
       "    <tr>\n",
       "      <th>0</th>\n",
       "      <td>1000</td>\n",
       "      <td>5</td>\n",
       "      <td>159.00</td>\n",
       "      <td>22.00</td>\n",
       "      <td>22.00</td>\n",
       "      <td>2253.49</td>\n",
       "      <td>3.00</td>\n",
       "      <td>52</td>\n",
       "      <td>NaT</td>\n",
       "      <td>Краснодар</td>\n",
       "      <td>...</td>\n",
       "      <td>Верещагин</td>\n",
       "      <td>2018-05-25</td>\n",
       "      <td>ultra</td>\n",
       "      <td>1000</td>\n",
       "      <td>30720</td>\n",
       "      <td>3000</td>\n",
       "      <td>1950</td>\n",
       "      <td>150</td>\n",
       "      <td>1</td>\n",
       "      <td>1</td>\n",
       "    </tr>\n",
       "    <tr>\n",
       "      <th>1</th>\n",
       "      <td>1000</td>\n",
       "      <td>6</td>\n",
       "      <td>172.00</td>\n",
       "      <td>43.00</td>\n",
       "      <td>60.00</td>\n",
       "      <td>23233.77</td>\n",
       "      <td>23.00</td>\n",
       "      <td>52</td>\n",
       "      <td>NaT</td>\n",
       "      <td>Краснодар</td>\n",
       "      <td>...</td>\n",
       "      <td>Верещагин</td>\n",
       "      <td>2018-05-25</td>\n",
       "      <td>ultra</td>\n",
       "      <td>1000</td>\n",
       "      <td>30720</td>\n",
       "      <td>3000</td>\n",
       "      <td>1950</td>\n",
       "      <td>150</td>\n",
       "      <td>1</td>\n",
       "      <td>1</td>\n",
       "    </tr>\n",
       "    <tr>\n",
       "      <th>2</th>\n",
       "      <td>1000</td>\n",
       "      <td>7</td>\n",
       "      <td>340.00</td>\n",
       "      <td>47.00</td>\n",
       "      <td>75.00</td>\n",
       "      <td>14003.64</td>\n",
       "      <td>14.00</td>\n",
       "      <td>52</td>\n",
       "      <td>NaT</td>\n",
       "      <td>Краснодар</td>\n",
       "      <td>...</td>\n",
       "      <td>Верещагин</td>\n",
       "      <td>2018-05-25</td>\n",
       "      <td>ultra</td>\n",
       "      <td>1000</td>\n",
       "      <td>30720</td>\n",
       "      <td>3000</td>\n",
       "      <td>1950</td>\n",
       "      <td>150</td>\n",
       "      <td>1</td>\n",
       "      <td>1</td>\n",
       "    </tr>\n",
       "    <tr>\n",
       "      <th>3</th>\n",
       "      <td>1000</td>\n",
       "      <td>8</td>\n",
       "      <td>408.00</td>\n",
       "      <td>52.00</td>\n",
       "      <td>81.00</td>\n",
       "      <td>14055.93</td>\n",
       "      <td>14.00</td>\n",
       "      <td>52</td>\n",
       "      <td>NaT</td>\n",
       "      <td>Краснодар</td>\n",
       "      <td>...</td>\n",
       "      <td>Верещагин</td>\n",
       "      <td>2018-05-25</td>\n",
       "      <td>ultra</td>\n",
       "      <td>1000</td>\n",
       "      <td>30720</td>\n",
       "      <td>3000</td>\n",
       "      <td>1950</td>\n",
       "      <td>150</td>\n",
       "      <td>1</td>\n",
       "      <td>1</td>\n",
       "    </tr>\n",
       "    <tr>\n",
       "      <th>4</th>\n",
       "      <td>1000</td>\n",
       "      <td>9</td>\n",
       "      <td>466.00</td>\n",
       "      <td>58.00</td>\n",
       "      <td>57.00</td>\n",
       "      <td>14568.91</td>\n",
       "      <td>15.00</td>\n",
       "      <td>52</td>\n",
       "      <td>NaT</td>\n",
       "      <td>Краснодар</td>\n",
       "      <td>...</td>\n",
       "      <td>Верещагин</td>\n",
       "      <td>2018-05-25</td>\n",
       "      <td>ultra</td>\n",
       "      <td>1000</td>\n",
       "      <td>30720</td>\n",
       "      <td>3000</td>\n",
       "      <td>1950</td>\n",
       "      <td>150</td>\n",
       "      <td>1</td>\n",
       "      <td>1</td>\n",
       "    </tr>\n",
       "  </tbody>\n",
       "</table>\n",
       "<p>5 rows × 21 columns</p>\n",
       "</div>"
      ],
      "text/plain": [
       "   user_id  month  calls_duration  calls_number  messages_number  mb_used  \\\n",
       "0     1000      5          159.00         22.00            22.00  2253.49   \n",
       "1     1000      6          172.00         43.00            60.00 23233.77   \n",
       "2     1000      7          340.00         47.00            75.00 14003.64   \n",
       "3     1000      8          408.00         52.00            81.00 14055.93   \n",
       "4     1000      9          466.00         58.00            57.00 14568.91   \n",
       "\n",
       "   gb_used  age churn_date       city  ...  last_name   reg_date tariff_name  \\\n",
       "0     3.00   52        NaT  Краснодар  ...  Верещагин 2018-05-25       ultra   \n",
       "1    23.00   52        NaT  Краснодар  ...  Верещагин 2018-05-25       ultra   \n",
       "2    14.00   52        NaT  Краснодар  ...  Верещагин 2018-05-25       ultra   \n",
       "3    14.00   52        NaT  Краснодар  ...  Верещагин 2018-05-25       ultra   \n",
       "4    15.00   52        NaT  Краснодар  ...  Верещагин 2018-05-25       ultra   \n",
       "\n",
       "  messages_included  mb_per_month_included  minutes_included  rub_monthly_fee  \\\n",
       "0              1000                  30720              3000             1950   \n",
       "1              1000                  30720              3000             1950   \n",
       "2              1000                  30720              3000             1950   \n",
       "3              1000                  30720              3000             1950   \n",
       "4              1000                  30720              3000             1950   \n",
       "\n",
       "   rub_per_gb  rub_per_message  rub_per_minute  \n",
       "0         150                1               1  \n",
       "1         150                1               1  \n",
       "2         150                1               1  \n",
       "3         150                1               1  \n",
       "4         150                1               1  \n",
       "\n",
       "[5 rows x 21 columns]"
      ]
     },
     "metadata": {},
     "output_type": "display_data"
    },
    {
     "name": "stdout",
     "output_type": "stream",
     "text": [
      "<class 'pandas.core.frame.DataFrame'>\n",
      "Int64Index: 3214 entries, 0 to 3213\n",
      "Data columns (total 21 columns):\n",
      " #   Column                 Non-Null Count  Dtype         \n",
      "---  ------                 --------------  -----         \n",
      " 0   user_id                3214 non-null   int64         \n",
      " 1   month                  3214 non-null   int64         \n",
      " 2   calls_duration         3174 non-null   float32       \n",
      " 3   calls_number           3174 non-null   float64       \n",
      " 4   messages_number        2717 non-null   float64       \n",
      " 5   mb_used                3203 non-null   float32       \n",
      " 6   gb_used                3203 non-null   float32       \n",
      " 7   age                    3214 non-null   int64         \n",
      " 8   churn_date             187 non-null    datetime64[ns]\n",
      " 9   city                   3214 non-null   object        \n",
      " 10  first_name             3214 non-null   object        \n",
      " 11  last_name              3214 non-null   object        \n",
      " 12  reg_date               3214 non-null   datetime64[ns]\n",
      " 13  tariff_name            3214 non-null   object        \n",
      " 14  messages_included      3214 non-null   int64         \n",
      " 15  mb_per_month_included  3214 non-null   int64         \n",
      " 16  minutes_included       3214 non-null   int64         \n",
      " 17  rub_monthly_fee        3214 non-null   int64         \n",
      " 18  rub_per_gb             3214 non-null   int64         \n",
      " 19  rub_per_message        3214 non-null   int64         \n",
      " 20  rub_per_minute         3214 non-null   int64         \n",
      "dtypes: datetime64[ns](2), float32(3), float64(2), int64(10), object(4)\n",
      "memory usage: 514.7+ KB\n"
     ]
    },
    {
     "data": {
      "text/plain": [
       "None"
      ]
     },
     "metadata": {},
     "output_type": "display_data"
    }
   ],
   "source": [
    "data = calls_pivot.merge(messages_pivot, on = ['user_id', 'month'], how = 'outer') \n",
    "data = data.merge(internet_pivot, on = ['user_id', 'month'], how = 'outer')\n",
    "#используем метод merge с параметром слияния outer для объединения данных по звонкам, сообщениям и использованию интернета пользователями\n",
    "\n",
    "data = data.merge(users, on = 'user_id', how = 'left')\n",
    "data = data.rename(columns = {'tariff':'tariff_name'})\n",
    "data = data.merge(tariffs, on = 'tariff_name', how = 'left')\n",
    "#используем метод merge с параметром слияния left для добавления к получившемуся массиву информации о пользователях и тарифе\n",
    "\n",
    "display(data.head())\n",
    "display(data.info())"
   ]
  },
  {
   "cell_type": "markdown",
   "id": "d9d4dd79",
   "metadata": {},
   "source": [
    "В результате слияния таблиц в ряде столбцов появились пропущенные значения, необходимо понять причину их появления и влияние на дальнейший анализ.\n",
    "\n",
    "В столбце churn_date пропуски были еще до объединения таблиц, это означает, что на момент среза данных пользователь все еще пользовался тарифом.\n",
    "    \n",
    "В остальных столбцах пропуски означают то, что в данном месяце клиент не использовал отдельный вид связи (звонки/сообщения/ интернет). Следовательно, пропуски такого рода естественны и не должны повлиять на дальнейший анализ. Заполним их нулями. "
   ]
  },
  {
   "cell_type": "code",
   "execution_count": 17,
   "id": "983f9d66",
   "metadata": {},
   "outputs": [
    {
     "name": "stdout",
     "output_type": "stream",
     "text": [
      "<class 'pandas.core.frame.DataFrame'>\n",
      "Int64Index: 3214 entries, 0 to 3213\n",
      "Data columns (total 21 columns):\n",
      " #   Column                 Non-Null Count  Dtype         \n",
      "---  ------                 --------------  -----         \n",
      " 0   user_id                3214 non-null   int64         \n",
      " 1   month                  3214 non-null   int64         \n",
      " 2   calls_duration         3214 non-null   float32       \n",
      " 3   calls_number           3214 non-null   float64       \n",
      " 4   messages_number        3214 non-null   float64       \n",
      " 5   mb_used                3214 non-null   float32       \n",
      " 6   gb_used                3214 non-null   float32       \n",
      " 7   age                    3214 non-null   int64         \n",
      " 8   churn_date             187 non-null    datetime64[ns]\n",
      " 9   city                   3214 non-null   object        \n",
      " 10  first_name             3214 non-null   object        \n",
      " 11  last_name              3214 non-null   object        \n",
      " 12  reg_date               3214 non-null   datetime64[ns]\n",
      " 13  tariff_name            3214 non-null   object        \n",
      " 14  messages_included      3214 non-null   int64         \n",
      " 15  mb_per_month_included  3214 non-null   int64         \n",
      " 16  minutes_included       3214 non-null   int64         \n",
      " 17  rub_monthly_fee        3214 non-null   int64         \n",
      " 18  rub_per_gb             3214 non-null   int64         \n",
      " 19  rub_per_message        3214 non-null   int64         \n",
      " 20  rub_per_minute         3214 non-null   int64         \n",
      "dtypes: datetime64[ns](2), float32(3), float64(2), int64(10), object(4)\n",
      "memory usage: 514.7+ KB\n"
     ]
    }
   ],
   "source": [
    "na_columns = ['calls_duration', 'calls_number', 'messages_number', 'mb_used', 'gb_used'] \n",
    "# создаем список столбцов с пропусками для заполнения\n",
    "\n",
    "for na_col in na_columns:\n",
    "    data[na_col] = data[na_col].fillna(0) #заполняем пропуски методом fillna\n",
    "\n",
    "data.info() # проверяем результат"
   ]
  },
  {
   "cell_type": "markdown",
   "id": "70e2a38f",
   "metadata": {},
   "source": [
    "Объединение таблиц прошло успешно, пропуски объяснены и заполнены, переходим к расчету помесячной выручки с каждого пользователя"
   ]
  },
  {
   "cell_type": "markdown",
   "id": "a33ee63a",
   "metadata": {},
   "source": [
    "**Рассчитываем помесячную выручку с каждого пользователя**"
   ]
  },
  {
   "cell_type": "code",
   "execution_count": 18,
   "id": "aa7a2a60",
   "metadata": {},
   "outputs": [
    {
     "data": {
      "text/html": [
       "<div>\n",
       "<style scoped>\n",
       "    .dataframe tbody tr th:only-of-type {\n",
       "        vertical-align: middle;\n",
       "    }\n",
       "\n",
       "    .dataframe tbody tr th {\n",
       "        vertical-align: top;\n",
       "    }\n",
       "\n",
       "    .dataframe thead th {\n",
       "        text-align: right;\n",
       "    }\n",
       "</style>\n",
       "<table border=\"1\" class=\"dataframe\">\n",
       "  <thead>\n",
       "    <tr style=\"text-align: right;\">\n",
       "      <th></th>\n",
       "      <th>user_id</th>\n",
       "      <th>month</th>\n",
       "      <th>calls_duration</th>\n",
       "      <th>calls_number</th>\n",
       "      <th>messages_number</th>\n",
       "      <th>mb_used</th>\n",
       "      <th>gb_used</th>\n",
       "      <th>age</th>\n",
       "      <th>churn_date</th>\n",
       "      <th>city</th>\n",
       "      <th>...</th>\n",
       "      <th>minutes_included</th>\n",
       "      <th>rub_monthly_fee</th>\n",
       "      <th>rub_per_gb</th>\n",
       "      <th>rub_per_message</th>\n",
       "      <th>rub_per_minute</th>\n",
       "      <th>gb_per_month_included</th>\n",
       "      <th>minutes_exceed</th>\n",
       "      <th>messages_exceed</th>\n",
       "      <th>internet_exceed</th>\n",
       "      <th>revenue</th>\n",
       "    </tr>\n",
       "  </thead>\n",
       "  <tbody>\n",
       "    <tr>\n",
       "      <th>0</th>\n",
       "      <td>1000</td>\n",
       "      <td>5</td>\n",
       "      <td>159.00</td>\n",
       "      <td>22.00</td>\n",
       "      <td>22.00</td>\n",
       "      <td>2253.49</td>\n",
       "      <td>3.00</td>\n",
       "      <td>52</td>\n",
       "      <td>NaT</td>\n",
       "      <td>Краснодар</td>\n",
       "      <td>...</td>\n",
       "      <td>3000</td>\n",
       "      <td>1950</td>\n",
       "      <td>150</td>\n",
       "      <td>1</td>\n",
       "      <td>1</td>\n",
       "      <td>30.00</td>\n",
       "      <td>0.00</td>\n",
       "      <td>0.00</td>\n",
       "      <td>0.00</td>\n",
       "      <td>1950.00</td>\n",
       "    </tr>\n",
       "    <tr>\n",
       "      <th>1</th>\n",
       "      <td>1000</td>\n",
       "      <td>6</td>\n",
       "      <td>172.00</td>\n",
       "      <td>43.00</td>\n",
       "      <td>60.00</td>\n",
       "      <td>23233.77</td>\n",
       "      <td>23.00</td>\n",
       "      <td>52</td>\n",
       "      <td>NaT</td>\n",
       "      <td>Краснодар</td>\n",
       "      <td>...</td>\n",
       "      <td>3000</td>\n",
       "      <td>1950</td>\n",
       "      <td>150</td>\n",
       "      <td>1</td>\n",
       "      <td>1</td>\n",
       "      <td>30.00</td>\n",
       "      <td>0.00</td>\n",
       "      <td>0.00</td>\n",
       "      <td>0.00</td>\n",
       "      <td>1950.00</td>\n",
       "    </tr>\n",
       "    <tr>\n",
       "      <th>2</th>\n",
       "      <td>1000</td>\n",
       "      <td>7</td>\n",
       "      <td>340.00</td>\n",
       "      <td>47.00</td>\n",
       "      <td>75.00</td>\n",
       "      <td>14003.64</td>\n",
       "      <td>14.00</td>\n",
       "      <td>52</td>\n",
       "      <td>NaT</td>\n",
       "      <td>Краснодар</td>\n",
       "      <td>...</td>\n",
       "      <td>3000</td>\n",
       "      <td>1950</td>\n",
       "      <td>150</td>\n",
       "      <td>1</td>\n",
       "      <td>1</td>\n",
       "      <td>30.00</td>\n",
       "      <td>0.00</td>\n",
       "      <td>0.00</td>\n",
       "      <td>0.00</td>\n",
       "      <td>1950.00</td>\n",
       "    </tr>\n",
       "    <tr>\n",
       "      <th>3</th>\n",
       "      <td>1000</td>\n",
       "      <td>8</td>\n",
       "      <td>408.00</td>\n",
       "      <td>52.00</td>\n",
       "      <td>81.00</td>\n",
       "      <td>14055.93</td>\n",
       "      <td>14.00</td>\n",
       "      <td>52</td>\n",
       "      <td>NaT</td>\n",
       "      <td>Краснодар</td>\n",
       "      <td>...</td>\n",
       "      <td>3000</td>\n",
       "      <td>1950</td>\n",
       "      <td>150</td>\n",
       "      <td>1</td>\n",
       "      <td>1</td>\n",
       "      <td>30.00</td>\n",
       "      <td>0.00</td>\n",
       "      <td>0.00</td>\n",
       "      <td>0.00</td>\n",
       "      <td>1950.00</td>\n",
       "    </tr>\n",
       "    <tr>\n",
       "      <th>4</th>\n",
       "      <td>1000</td>\n",
       "      <td>9</td>\n",
       "      <td>466.00</td>\n",
       "      <td>58.00</td>\n",
       "      <td>57.00</td>\n",
       "      <td>14568.91</td>\n",
       "      <td>15.00</td>\n",
       "      <td>52</td>\n",
       "      <td>NaT</td>\n",
       "      <td>Краснодар</td>\n",
       "      <td>...</td>\n",
       "      <td>3000</td>\n",
       "      <td>1950</td>\n",
       "      <td>150</td>\n",
       "      <td>1</td>\n",
       "      <td>1</td>\n",
       "      <td>30.00</td>\n",
       "      <td>0.00</td>\n",
       "      <td>0.00</td>\n",
       "      <td>0.00</td>\n",
       "      <td>1950.00</td>\n",
       "    </tr>\n",
       "  </tbody>\n",
       "</table>\n",
       "<p>5 rows × 26 columns</p>\n",
       "</div>"
      ],
      "text/plain": [
       "   user_id  month  calls_duration  calls_number  messages_number  mb_used  \\\n",
       "0     1000      5          159.00         22.00            22.00  2253.49   \n",
       "1     1000      6          172.00         43.00            60.00 23233.77   \n",
       "2     1000      7          340.00         47.00            75.00 14003.64   \n",
       "3     1000      8          408.00         52.00            81.00 14055.93   \n",
       "4     1000      9          466.00         58.00            57.00 14568.91   \n",
       "\n",
       "   gb_used  age churn_date       city  ... minutes_included rub_monthly_fee  \\\n",
       "0     3.00   52        NaT  Краснодар  ...             3000            1950   \n",
       "1    23.00   52        NaT  Краснодар  ...             3000            1950   \n",
       "2    14.00   52        NaT  Краснодар  ...             3000            1950   \n",
       "3    14.00   52        NaT  Краснодар  ...             3000            1950   \n",
       "4    15.00   52        NaT  Краснодар  ...             3000            1950   \n",
       "\n",
       "  rub_per_gb rub_per_message  rub_per_minute  gb_per_month_included  \\\n",
       "0        150               1               1                  30.00   \n",
       "1        150               1               1                  30.00   \n",
       "2        150               1               1                  30.00   \n",
       "3        150               1               1                  30.00   \n",
       "4        150               1               1                  30.00   \n",
       "\n",
       "   minutes_exceed  messages_exceed  internet_exceed  revenue  \n",
       "0            0.00             0.00             0.00  1950.00  \n",
       "1            0.00             0.00             0.00  1950.00  \n",
       "2            0.00             0.00             0.00  1950.00  \n",
       "3            0.00             0.00             0.00  1950.00  \n",
       "4            0.00             0.00             0.00  1950.00  \n",
       "\n",
       "[5 rows x 26 columns]"
      ]
     },
     "metadata": {},
     "output_type": "display_data"
    }
   ],
   "source": [
    "data['gb_per_month_included'] = data['mb_per_month_included'] / 1024 # рассчитываем лимит трафика в Гб\n",
    "data['minutes_exceed'] = data['calls_duration'] - data['minutes_included'] # рассчитываем превышение лимита по звонкам в месяц\n",
    "data['minutes_exceed'] = data['minutes_exceed'].where(data['minutes_exceed'] > 0, 0)  \n",
    "# случаи с отрицательными значениями (недоиспользование лимита по звонкам) приравниваем к 0\n",
    "\n",
    "data['messages_exceed'] = data['messages_number'] - data['messages_included'] # рассчитываем превышение лимита по сообщениям в месяц\n",
    "data['messages_exceed'] = data['messages_exceed'].where(data['messages_exceed'] > 0, 0)  \n",
    "# случаи с отрицательными значениями (недоиспользование лимита по сообщениям) приравниваем к 0\n",
    "\n",
    "data['internet_exceed'] = data['gb_used'] - data['gb_per_month_included'] # рассчитываем превышение лимита по сообщениям в месяц\n",
    "data['internet_exceed'] = data['internet_exceed'].where(data['internet_exceed'] > 0, 0)  \n",
    "# случаи с отрицательными значениями (недоиспользование лимита по интернет-трафику) приравниваем к 0\n",
    "\n",
    "data['revenue'] = (data['minutes_exceed'] * data['rub_per_minute'] + \n",
    "                   data['messages_exceed'] * data['rub_per_message'] +\n",
    "                   data['internet_exceed'] * data['rub_per_gb'] +\n",
    "                   data['rub_monthly_fee'])\n",
    "\n",
    "display(data.head()) # проверяем получившиеся расчеты"
   ]
  },
  {
   "cell_type": "markdown",
   "id": "bd575813",
   "metadata": {},
   "source": [
    "**Выводы:** Предобработка данных завершена. Были исправлены типы данных, данные проверены на ошибки, также были рассчитаны вспомогательные параметры для последующего статистического анализа данных."
   ]
  },
  {
   "cell_type": "markdown",
   "id": "c63b02fe",
   "metadata": {},
   "source": [
    "## Статистический анализ данных"
   ]
  },
  {
   "cell_type": "markdown",
   "id": "c04cfbdd",
   "metadata": {},
   "source": [
    "### Анализ поведения клиентов оператора"
   ]
  },
  {
   "cell_type": "markdown",
   "id": "afbd7070",
   "metadata": {},
   "source": [
    "Перед тем как переходить к проверке гипотез, проанализируем данные и опишем поведение клиентов оператора связи. Анализировать будем поведение пользователей двух разных тарифов ultra и smart. \n",
    "\n",
    "Параметры для анализа:\n",
    "* минуты разговора\n",
    "* количество сообщений\n",
    "* использование интернета"
   ]
  },
  {
   "cell_type": "code",
   "execution_count": 19,
   "id": "d64c5fab",
   "metadata": {},
   "outputs": [],
   "source": [
    "data_ultra = data.query('tariff_name == \"ultra\"') #создаем датафрейм пользователей тарифа ultra\n",
    "data_smart = data.query('tariff_name == \"smart\"') # создаем датафрейм пользователей тарифа smart"
   ]
  },
  {
   "cell_type": "code",
   "execution_count": 20,
   "id": "aa7c83b1",
   "metadata": {},
   "outputs": [],
   "source": [
    "parameters = ['calls_duration', 'messages_number', 'gb_used'] # создаем список с анализируемыми параметрами"
   ]
  },
  {
   "cell_type": "markdown",
   "id": "2910d7bd",
   "metadata": {},
   "source": [
    "Рассчитаем среднее значение, дисперсию и стандартное отклонение по данным параметрам для двух тарифных групп.\n",
    "\n",
    "**Рассчитаем параметры для тарифа ультра:**"
   ]
  },
  {
   "cell_type": "code",
   "execution_count": 21,
   "id": "8f2d8096",
   "metadata": {},
   "outputs": [
    {
     "name": "stdout",
     "output_type": "stream",
     "text": [
      "calls_duration\n",
      "Среднее:  526.6233520507812\n",
      "Дисперсия:  100873.734375\n",
      "Стандартное отклонение:  317.60626220703125\n",
      "\n",
      "messages_number\n",
      "Среднее:  49.36345177664975\n",
      "Дисперсия:  2285.2661425446818\n",
      "Стандартное отклонение:  47.8044573501748\n",
      "\n",
      "gb_used\n",
      "Среднее:  19.494417190551758\n",
      "Дисперсия:  97.09165954589844\n",
      "Стандартное отклонение:  9.853509902954102\n",
      "\n"
     ]
    }
   ],
   "source": [
    "import numpy as np\n",
    "for param in parameters:\n",
    "    print(param)\n",
    "    print('Среднее: ', data_ultra[param].mean())\n",
    "    print('Дисперсия: ', np.var(data_ultra[param], ddof=1))\n",
    "    print('Стандартное отклонение: ', np.std(data_ultra[param], ddof=1))\n",
    "    print()"
   ]
  },
  {
   "cell_type": "markdown",
   "id": "faf131ce",
   "metadata": {},
   "source": [
    "**Рассчитаем параметры для тарифа смарт:**"
   ]
  },
  {
   "cell_type": "code",
   "execution_count": 22,
   "id": "8f64097d",
   "metadata": {},
   "outputs": [
    {
     "name": "stdout",
     "output_type": "stream",
     "text": [
      "calls_duration\n",
      "Среднее:  417.9349365234375\n",
      "Дисперсия:  36219.26171875\n",
      "Стандартное отклонение:  190.31358337402344\n",
      "\n",
      "messages_number\n",
      "Среднее:  33.384028712427096\n",
      "Дисперсия:  796.8129584480083\n",
      "Стандартное отклонение:  28.22787555676141\n",
      "\n",
      "gb_used\n",
      "Среднее:  16.328847885131836\n",
      "Дисперсия:  33.02864074707031\n",
      "Стандартное отклонение:  5.7470550537109375\n",
      "\n"
     ]
    }
   ],
   "source": [
    "import numpy as np\n",
    "for param in parameters:\n",
    "    print(param)\n",
    "    print('Среднее: ', data_smart[param].mean())\n",
    "    print('Дисперсия: ', np.var(data_smart[param], ddof=1))\n",
    "    print('Стандартное отклонение: ', np.std(data_smart[param], ddof=1))\n",
    "    print()"
   ]
  },
  {
   "cell_type": "markdown",
   "id": "680977fa",
   "metadata": {},
   "source": [
    "На основе полученных результатов можно сказать, что пользователи тарифа \"Ультра\" в среднем за месяц используют большее количество минут, отправляют больше сообщений и используют больше интернет-трафика, чем пользователи тарифа \"Смарт\". Также дисперсия и стандартное отклонение показателей больше у пользователей тарифа \"Ультра\", их поведение более вариативно, чем у пользователей тарифа \"Смарт\"."
   ]
  },
  {
   "cell_type": "markdown",
   "id": "fc9bd91e",
   "metadata": {},
   "source": [
    "Построим гистограммы по выбранным показателям, чтобы подтвердить предварительные выводы"
   ]
  },
  {
   "cell_type": "markdown",
   "id": "ae72c149",
   "metadata": {},
   "source": [
    "**Строим гистограммы для тарифа ultra:**"
   ]
  },
  {
   "cell_type": "code",
   "execution_count": 23,
   "id": "526e202c",
   "metadata": {},
   "outputs": [
    {
     "data": {
      "image/png": "[encoded data removed]",
      "text/plain": [
       "<Figure size 432x288 with 1 Axes>"
      ]
     },
     "metadata": {
      "needs_background": "light"
     },
     "output_type": "display_data"
    },
    {
     "data": {
      "image/png": "[encoded data removed]",
      "text/plain": [
       "<Figure size 432x288 with 1 Axes>"
      ]
     },
     "metadata": {
      "needs_background": "light"
     },
     "output_type": "display_data"
    },
    {
     "data": {
      "image/png": "[encoded data removed]",
      "text/plain": [
       "<Figure size 432x288 with 1 Axes>"
      ]
     },
     "metadata": {
      "needs_background": "light"
     },
     "output_type": "display_data"
    }
   ],
   "source": [
    "import matplotlib.pyplot as plt # импортируем билиотеку matplotlib, модуль для построения графиков\n",
    "for param in parameters:\n",
    "    data_ultra[param].hist(bins=50) # строим гистограмму на 50 корзин\n",
    "    plt.title(param)\n",
    "    plt.show()"
   ]
  },
  {
   "cell_type": "markdown",
   "id": "cfdc6cad",
   "metadata": {},
   "source": [
    "**Строим гистограммы для тарифа smart:**"
   ]
  },
  {
   "cell_type": "code",
   "execution_count": 24,
   "id": "23b1f124",
   "metadata": {},
   "outputs": [
    {
     "data": {
      "image/png": "[encoded data removed]",
      "text/plain": [
       "<Figure size 432x288 with 1 Axes>"
      ]
     },
     "metadata": {
      "needs_background": "light"
     },
     "output_type": "display_data"
    },
    {
     "data": {
      "image/png": "[encoded data removed]",
      "text/plain": [
       "<Figure size 432x288 with 1 Axes>"
      ]
     },
     "metadata": {
      "needs_background": "light"
     },
     "output_type": "display_data"
    },
    {
     "data": {
      "image/png": "[encoded data removed]",
      "text/plain": [
       "<Figure size 432x288 with 1 Axes>"
      ]
     },
     "metadata": {
      "needs_background": "light"
     },
     "output_type": "display_data"
    }
   ],
   "source": [
    "for param in parameters:\n",
    "    data_smart[param].hist(bins=50) # строим гистограмму на 50 корзин\n",
    "    plt.title(param)\n",
    "    plt.show()"
   ]
  },
  {
   "cell_type": "markdown",
   "id": "d1a75b6e",
   "metadata": {},
   "source": [
    "**Выводы:**\n",
    "* **минуты разговора**\n",
    "\n",
    "Для пользователей тарифа ultra большая часть значений по продолжительности разговоров в месяц лежит в диапазоне до 1300 минут в месяц или до 42 минут в день. Наиболее часто встречающееся значение 500 минут в месяц или 16.5 минут в день. При этом максимальное количество минут, включенное в тариф составляет 3000 минут, то есть пользователи тарифа ultra не используют свой пакет минут даже на 50%.\n",
    "\n",
    "Для пользователей тарифа smart большая часть значений по минутам разговора лежит в диапазоне до 800 минут в месяц (26 минут в день) с типичным значением в 500 минут в месяц (16.5 минут в день). Тариф smart включает в себя всего 500 минут разговора в месяц. То есть пользователи тарифа smart допускают превышение по лимиту минут в месяц, в отличие от пользователей тарифа ultra.  При этом как визуально, так и статистически, разброс значений по использованию минут разговора больше у пользователей тарифа ultra.\n",
    "\n",
    "* **количество сообщений**\n",
    "\n",
    "Для пользователей тарифа ultra большинство значений по количеству сообщений лежит в диапазоне до 200 сообщений в месяц при лимите 1000 сообщений в месяц.\n",
    "\n",
    "Для пользователей тарифа smart большинство значений по количеству сообщений лежит в диапазоне до 120 сообщений в месяц при лимите в 50 сообщений. Таким образом, пользователи тарифа smart также допускают превышение лимита по сообщениям, что может привести к росту выручки по этому тарифу.\n",
    "\n",
    "Уменьшение встречаемости значений по мере увеличения количества отправляемых сообщений линейно для обоих тарифов.\n",
    "\n",
    "* **использование интернета**\n",
    "\n",
    "Пользователи тарифа ultra используют до 45 Гб интернета в месяц с типичным значением 23 Гб в месяц. При этом лимит трафика по тарифу ultra составляет 30 Гб в месяц, то есть пользователи тарифа ultra допускают перерасход по этому показателю.\n",
    "\n",
    "Пользователи тарифа smart используют до 30 Гб интернета в месяц с типичным значением 17 Гб в месяц. Лимит трафика для данного тарифа составляем 15 Гб в месяц, пользователи smart также допускают перерасход по использованию интернета. "
   ]
  },
  {
   "cell_type": "markdown",
   "id": "038fc83f",
   "metadata": {},
   "source": [
    "Перейдем к проверкам гипотез по различию в средней выручке между пользователями оператора."
   ]
  },
  {
   "cell_type": "markdown",
   "id": "cbef6bda",
   "metadata": {},
   "source": [
    "### Проверка гипотез по средней выручке пользователей"
   ]
  },
  {
   "cell_type": "markdown",
   "id": "72ac72a7",
   "metadata": {},
   "source": [
    "Нам предстоит проверить две гипотезы:\n",
    "\n",
    "* средняя выручка пользователей тарифов «Ультра» и «Смарт» различаются;\n",
    "* средняя выручка пользователей из Москвы отличается от выручки пользователей из других регионов."
   ]
  },
  {
   "cell_type": "markdown",
   "id": "df76724f",
   "metadata": {},
   "source": [
    "**Методика проверки гипотез:**\n",
    "\n",
    "Для проверки гипотез будем использовать t-test и специальный метод Python для проверки гипотезы о равенстве средних двух генеральных совокупностей по взятым из них выборкам\n",
    "\n",
    "Пороговое значение alpha (уровень значимости) зададим как 0.05 (5%)\n",
    "\n",
    "Перед использованием метода проверим, соответствуют ли выборки условиям использования t-test:\n",
    "\n",
    "* Генеральные совокупности не должны зависеть друг от друга.\n",
    "* Выборочные средние должны быть нормально распределены.\n",
    "* Дисперсии рассматриваемых генеральных совокупностей должны быть равны.\n",
    "\n",
    "Генеральные совокупности не зависят друг от друга, так как пользователи разных тарифов разные люди и принимают решения самостоятельно. Выборочные средние нормально распределены благодаря ЦПТ. У нас нет уверенности в равенстве дисперсий рассматриваемых генеральных совокупностей, поэтому для целей анализа установим параметр equal_var = False."
   ]
  },
  {
   "cell_type": "markdown",
   "id": "5dd3a2ff",
   "metadata": {},
   "source": [
    "#### Cредняя выручка пользователей тарифов «Ультра» и «Смарт» различаются"
   ]
  },
  {
   "cell_type": "markdown",
   "id": "b209f143",
   "metadata": {},
   "source": [
    "Сформулируем гипотезы H0 и H1:\n",
    "\n",
    "**Гипотеза H0:** Выручки пользователей тарифов \"Ультра\" и \"Смарт\" равны\n",
    "\n",
    "Исходя из гипотезы H0, формулируем гипотезу H1, на случай, если гипотеза H0 не подтвердится:\n",
    "\n",
    "**Гипотеза H1:** Выручки пользователей тарифов \"Ультра\" и \"Смарт\" различаются\n",
    "\n",
    "Для начала рассчитаем среднюю выручку пользователей тарифов \"Смарт\" и \"Ультра\""
   ]
  },
  {
   "cell_type": "code",
   "execution_count": 25,
   "id": "015ef60d",
   "metadata": {},
   "outputs": [
    {
     "data": {
      "text/plain": [
       "tariff_name\n",
       "smart   1289.97\n",
       "ultra   2070.15\n",
       "Name: revenue, dtype: float64"
      ]
     },
     "execution_count": 25,
     "metadata": {},
     "output_type": "execute_result"
    }
   ],
   "source": [
    "data.groupby(by = 'tariff_name')['revenue'].mean()"
   ]
  },
  {
   "cell_type": "markdown",
   "id": "ae35f948",
   "metadata": {},
   "source": [
    "Предварительный расчет показывает, что выручка тарифов \"Ультра\" и \"Смарт\" различается. Подтвердим его статистически."
   ]
  },
  {
   "cell_type": "code",
   "execution_count": 26,
   "id": "8c02abcb",
   "metadata": {},
   "outputs": [
    {
     "name": "stdout",
     "output_type": "stream",
     "text": [
      "p-значение 4.2606313931076085e-250\n",
      "Отвергаем нулевую гипотезу\n"
     ]
    }
   ],
   "source": [
    "from scipy import stats as st # импортируем библиотеку stats\n",
    "alpha = 0.05 # критический уровень статистической значимости\n",
    "# если p-value окажется меньше него - отвергнем гипотезу\n",
    "\n",
    "results = st.ttest_ind(data_smart['revenue'],data_ultra['revenue'], equal_var = False)\n",
    "# используем метод ttest для средних генеральных совокупностей\n",
    "print('p-значение', results.pvalue)\n",
    "\n",
    "if results.pvalue < alpha:\n",
    "    print('Отвергаем нулевую гипотезу')\n",
    "else:\n",
    "    print('Не получилось отвергнуть нулевую гипотезу')"
   ]
  },
  {
   "cell_type": "markdown",
   "id": "ec195ac0",
   "metadata": {},
   "source": [
    "T-test показал, что нулевая гипотеза может быть отвергнута, так как p-value (уровень статистической значимости) оказался намного меньше заданного порога в 5%. \n",
    "\n",
    "**Вывод:** Выручка пользователей тарифов \"Ультра\" и \"Смарт\" различается."
   ]
  },
  {
   "cell_type": "markdown",
   "id": "a5f4ec2d",
   "metadata": {},
   "source": [
    "Тем не менее, полученный результат не дает однозначного ответа, какой тариф лучше, точнее, какой тариф приносит больше выручки. Для окончательного вывода проведем односторонний тест по сравнению выручки по тарифу ultra со средней выручкой тарифа smart."
   ]
  },
  {
   "cell_type": "markdown",
   "id": "39892860",
   "metadata": {},
   "source": [
    "#### Средняя выручка тарифа \"Ультра\" больше средней выручки тарифа \"Смарт\""
   ]
  },
  {
   "cell_type": "markdown",
   "id": "67f15758",
   "metadata": {},
   "source": [
    "Сформулируем гипотезы H0 и H1:\n",
    "\n",
    "**Гипотеза H0:** Выручка пользователей тарифа \"Ультра\" равна или меньше выручки тарифа \"Смарт\"\n",
    "\n",
    "Исходя из гипотезы H0, формулируем гипотезу H1, на случай, если гипотеза H0 не подтвердится:\n",
    "\n",
    "**Гипотеза H1:** Выручка пользователей тарифа \"Ультра\" больше выручки тарифа \"Смарт\""
   ]
  },
  {
   "cell_type": "code",
   "execution_count": 27,
   "id": "2193234f",
   "metadata": {},
   "outputs": [
    {
     "name": "stdout",
     "output_type": "stream",
     "text": [
      "p-значение 0.0\n",
      "Отвергаем нулевую гипотезу: выручка по тарифу Ультра значимо больше выручки по тарифу Смарт\n"
     ]
    }
   ],
   "source": [
    "smart_revenue = data_smart['revenue'].mean() # средняя выручка по тарифу smart\n",
    "alpha = 0.05  # критический уровень статистической значимости\n",
    "# если p-value окажется меньше него - отвергнем гипотезу\n",
    "\n",
    "results = st.ttest_1samp(data_ultra['revenue'], smart_revenue) # используем метод ttest для проверки двусторонних и односторонних гипотез\n",
    "print('p-значение', results.pvalue)\n",
    "\n",
    "if (results.pvalue/2 < alpha) and (data_ultra['revenue'].mean() > smart_revenue): #делим pvalue на 2 для проверки односторонней гипотезы\n",
    "    print(\"Отвергаем нулевую гипотезу: выручка по тарифу Ультра значимо больше выручки по тарифу Смарт\")\n",
    "else:\n",
    "    print(\"Не получилось отвергнуть нулевую гипотезу, выручка по тарифу Ультра равна или меньше выручки по тарифу Смарт\")\n"
   ]
  },
  {
   "cell_type": "markdown",
   "id": "762f94e7",
   "metadata": {},
   "source": [
    "**Вывод:** Средняя выручка по тарифу \"Ультра\" больше выручки по тарифу \"Смарт\". Данный тариф более выгодный для компании. "
   ]
  },
  {
   "cell_type": "markdown",
   "id": "57e87e88",
   "metadata": {},
   "source": [
    "#### Cредняя выручка пользователей из Москвы отличается от выручки пользователей из других регионов."
   ]
  },
  {
   "cell_type": "markdown",
   "id": "b9d049be",
   "metadata": {},
   "source": [
    "Сформулируем гипотезы H0 и H1:\n",
    "\n",
    "**Гипотеза H0:** Выручки пользователей из Москвы и других регионов равны\n",
    "\n",
    "Исходя из гипотезы H0, формулируем гипотезу H1, на случай, если гипотеза H0 не подтвердится:\n",
    "\n",
    "**Гипотеза H1:** Выручки пользователей из Москвы и других регионов различаются"
   ]
  },
  {
   "cell_type": "markdown",
   "id": "7621048d",
   "metadata": {},
   "source": [
    "Создадим срезы для дальнейшего анализа"
   ]
  },
  {
   "cell_type": "code",
   "execution_count": 28,
   "id": "9c8e26da",
   "metadata": {},
   "outputs": [],
   "source": [
    "data_moscow = data.query('city == \"Москва\"')\n",
    "data_regions = data.query('city != \"Москва\"')"
   ]
  },
  {
   "cell_type": "markdown",
   "id": "f2351aaf",
   "metadata": {},
   "source": [
    "Проверим среднюю выручку пользователей Москвы и других регионов"
   ]
  },
  {
   "cell_type": "code",
   "execution_count": 29,
   "id": "491f0d89",
   "metadata": {},
   "outputs": [
    {
     "name": "stdout",
     "output_type": "stream",
     "text": [
      "1546.7135842880523\n",
      "1524.9362274298885\n"
     ]
    }
   ],
   "source": [
    "print(data_moscow['revenue'].mean())\n",
    "print(data_regions['revenue'].mean())"
   ]
  },
  {
   "cell_type": "markdown",
   "id": "e76ece4a",
   "metadata": {},
   "source": [
    "Предварительный расчет показывает, что средние выручки пользователей из Москвы и других регионов практически не различаются. Подтвердим это статистически "
   ]
  },
  {
   "cell_type": "code",
   "execution_count": 30,
   "id": "9f11c732",
   "metadata": {},
   "outputs": [
    {
     "name": "stdout",
     "output_type": "stream",
     "text": [
      "p-значение 0.5257376663729298\n",
      "Не получилось отвергнуть нулевую гипотезу\n"
     ]
    }
   ],
   "source": [
    "alpha = 0.05 # критический уровень статистической значимости\n",
    "# если p-value окажется меньше него - отвергнем гипотезу\n",
    "\n",
    "results = st.ttest_ind(data_moscow['revenue'],data_regions['revenue'], equal_var = False) # используем метод ttest для средних генеральных совокупностей\n",
    "print('p-значение', results.pvalue)\n",
    "\n",
    "if results.pvalue < alpha:\n",
    "    print('Отвергаем нулевую гипотезу')\n",
    "else:\n",
    "    print('Не получилось отвергнуть нулевую гипотезу')"
   ]
  },
  {
   "cell_type": "markdown",
   "id": "121eade7",
   "metadata": {},
   "source": [
    "t-test показал, что нулевую гипотезу отвергнуть не получилось, так как p-value оказалось гораздо выше 5%.\n",
    "\n",
    "**Вывод:** Выручка пользователей из Москвы равна выручке пользователей из других регионов."
   ]
  },
  {
   "cell_type": "markdown",
   "id": "2e9cb524",
   "metadata": {},
   "source": [
    "## Итоги исследования"
   ]
  },
  {
   "cell_type": "markdown",
   "id": "11b84455",
   "metadata": {},
   "source": [
    "Мы проанализировали выборку данных по клиентам сотового оператора с целью установить, какой тариф более выгоден для компании.\n",
    "\n",
    "1. В ходе предобработки данных были решены следующие проблемы:\n",
    "    * проверены и исправлены типы данных\n",
    "    * данные проверены на ошибки, пропуски значений, явные и неявные дубликаты\n",
    "    * рассчитаны вспомогательные параметры:\n",
    "        * количество и длительность сделанных звонков пользователями\n",
    "        * количество отправленных сообщений\n",
    "        * количество израсходованного интернет-трафика\n",
    "        * помесячная выручка с каждого пользователя\n",
    "2. В ходе анализа данных было изучено поведение пользователей тарифов \"Смарт\" и \"Ультра\" по количеству и продолжительности звонков, количеству отправленных сообщений и расходу интернет-трафика\n",
    "3. Были проверены следующие гипотезы с использованием статистического анализа (t-test):\n",
    "    * средняя выручка пользователей тарифов «Ультра» и «Смарт» различаются;\n",
    "    * средняя выручка пользователей тарифов \"Ультра\" больше средней выручки пользователей тарифов \"Смарт\"\n",
    "    * средняя выручка пользователей из Москвы отличается от выручки пользователей из других регионов.\n",
    "4. На основе проверки гипотез были сделаны следующие выводы:\n",
    "    \n",
    "    1) Средняя выручка тарифов \"Ультра\" и \"Смарт\" различается\n",
    "    \n",
    "    2) Средняя выручка тарифа \"Ультра\" больше средней выручки тарифа \"Смарт\"\n",
    "    \n",
    "    3) Средняя выручка пользователей из Москвы не отличается от выручки пользователей из других регионов\n",
    "\n",
    "Таким образом, наиболее выгодным тарифом для компании является тариф \"Ультра\". Это необходимо учесть при планировании маркетингового бюджета."
   ]
  }
 ],
 "metadata": {
  "kernelspec": {
   "display_name": "Python 3 (ipykernel)",
   "language": "python",
   "name": "python3"
  },
  "language_info": {
   "codemirror_mode": {
    "name": "ipython",
    "version": 3
   },
   "file_extension": ".py",
   "mimetype": "text/x-python",
   "name": "python",
   "nbconvert_exporter": "python",
   "pygments_lexer": "ipython3",
   "version": "3.9.7"
  },
  "toc": {
   "base_numbering": 1,
   "nav_menu": {},
   "number_sections": true,
   "sideBar": true,
   "skip_h1_title": false,
   "title_cell": "Table of Contents",
   "title_sidebar": "Contents",
   "toc_cell": true,
   "toc_position": {},
   "toc_section_display": true,
   "toc_window_display": false
  }
 },
 "nbformat": 4,
 "nbformat_minor": 5
}
